{
 "cells": [
  {
   "cell_type": "code",
   "execution_count": 1,
   "id": "2720606a",
   "metadata": {
    "_cell_guid": "b1076dfc-b9ad-4769-8c92-a6c4dae69d19",
    "_uuid": "8f2839f25d086af736a60e9eeb907d3b93b6e0e5",
    "execution": {
     "iopub.execute_input": "2024-08-20T14:15:06.231810Z",
     "iopub.status.busy": "2024-08-20T14:15:06.231373Z",
     "iopub.status.idle": "2024-08-20T14:15:09.215545Z",
     "shell.execute_reply": "2024-08-20T14:15:09.214201Z"
    },
    "papermill": {
     "duration": 3.003399,
     "end_time": "2024-08-20T14:15:09.218419",
     "exception": false,
     "start_time": "2024-08-20T14:15:06.215020",
     "status": "completed"
    },
    "tags": []
   },
   "outputs": [],
   "source": [
    "# Importing libraries\n",
    "\n",
    "import pandas as pd\n",
    "import numpy as np\n",
    "\n",
    "import seaborn as sns\n",
    "import matplotlib.pyplot as plt\n",
    "%matplotlib inline\n",
    "\n",
    "from sklearn.preprocessing import OneHotEncoder, OrdinalEncoder\n",
    "from sklearn.impute import SimpleImputer\n",
    "from sklearn.compose import make_column_transformer\n",
    "from sklearn.pipeline import Pipeline, make_pipeline\n",
    "\n",
    "from sklearn.linear_model import LogisticRegression\n",
    "from sklearn.ensemble import RandomForestClassifier\n",
    "from sklearn.tree import DecisionTreeClassifier\n",
    "from xgboost import XGBClassifier\n",
    "from sklearn.svm import SVC \n",
    "\n",
    "from sklearn.model_selection import cross_val_score, StratifiedKFold, train_test_split, GridSearchCV"
   ]
  },
  {
   "cell_type": "code",
   "execution_count": 2,
   "id": "f0d82fdb",
   "metadata": {
    "execution": {
     "iopub.execute_input": "2024-08-20T14:15:09.248371Z",
     "iopub.status.busy": "2024-08-20T14:15:09.247801Z",
     "iopub.status.idle": "2024-08-20T14:15:09.282373Z",
     "shell.execute_reply": "2024-08-20T14:15:09.281222Z"
    },
    "papermill": {
     "duration": 0.053184,
     "end_time": "2024-08-20T14:15:09.285136",
     "exception": false,
     "start_time": "2024-08-20T14:15:09.231952",
     "status": "completed"
    },
    "tags": []
   },
   "outputs": [],
   "source": [
    "# Importing datasets\n",
    "\n",
    "train_df = pd.read_csv('/kaggle/input/titanic-dataset/train.csv')\n",
    "test_df=pd.read_csv('/kaggle/input/titanic-dataset/test.csv')"
   ]
  },
  {
   "cell_type": "code",
   "execution_count": 3,
   "id": "de9cd6df",
   "metadata": {
    "execution": {
     "iopub.execute_input": "2024-08-20T14:15:09.313875Z",
     "iopub.status.busy": "2024-08-20T14:15:09.313458Z",
     "iopub.status.idle": "2024-08-20T14:15:09.343114Z",
     "shell.execute_reply": "2024-08-20T14:15:09.341854Z"
    },
    "papermill": {
     "duration": 0.04672,
     "end_time": "2024-08-20T14:15:09.345504",
     "exception": false,
     "start_time": "2024-08-20T14:15:09.298784",
     "status": "completed"
    },
    "tags": []
   },
   "outputs": [
    {
     "data": {
      "text/html": [
       "<div>\n",
       "<style scoped>\n",
       "    .dataframe tbody tr th:only-of-type {\n",
       "        vertical-align: middle;\n",
       "    }\n",
       "\n",
       "    .dataframe tbody tr th {\n",
       "        vertical-align: top;\n",
       "    }\n",
       "\n",
       "    .dataframe thead th {\n",
       "        text-align: right;\n",
       "    }\n",
       "</style>\n",
       "<table border=\"1\" class=\"dataframe\">\n",
       "  <thead>\n",
       "    <tr style=\"text-align: right;\">\n",
       "      <th></th>\n",
       "      <th>PassengerId</th>\n",
       "      <th>Survived</th>\n",
       "      <th>Pclass</th>\n",
       "      <th>Name</th>\n",
       "      <th>Sex</th>\n",
       "      <th>Age</th>\n",
       "      <th>SibSp</th>\n",
       "      <th>Parch</th>\n",
       "      <th>Ticket</th>\n",
       "      <th>Fare</th>\n",
       "      <th>Cabin</th>\n",
       "      <th>Embarked</th>\n",
       "    </tr>\n",
       "  </thead>\n",
       "  <tbody>\n",
       "    <tr>\n",
       "      <th>0</th>\n",
       "      <td>1</td>\n",
       "      <td>0</td>\n",
       "      <td>3</td>\n",
       "      <td>Braund, Mr. Owen Harris</td>\n",
       "      <td>male</td>\n",
       "      <td>22.0</td>\n",
       "      <td>1</td>\n",
       "      <td>0</td>\n",
       "      <td>A/5 21171</td>\n",
       "      <td>7.2500</td>\n",
       "      <td>NaN</td>\n",
       "      <td>S</td>\n",
       "    </tr>\n",
       "    <tr>\n",
       "      <th>1</th>\n",
       "      <td>2</td>\n",
       "      <td>1</td>\n",
       "      <td>1</td>\n",
       "      <td>Cumings, Mrs. John Bradley (Florence Briggs Th...</td>\n",
       "      <td>female</td>\n",
       "      <td>38.0</td>\n",
       "      <td>1</td>\n",
       "      <td>0</td>\n",
       "      <td>PC 17599</td>\n",
       "      <td>71.2833</td>\n",
       "      <td>C85</td>\n",
       "      <td>C</td>\n",
       "    </tr>\n",
       "    <tr>\n",
       "      <th>2</th>\n",
       "      <td>3</td>\n",
       "      <td>1</td>\n",
       "      <td>3</td>\n",
       "      <td>Heikkinen, Miss. Laina</td>\n",
       "      <td>female</td>\n",
       "      <td>26.0</td>\n",
       "      <td>0</td>\n",
       "      <td>0</td>\n",
       "      <td>STON/O2. 3101282</td>\n",
       "      <td>7.9250</td>\n",
       "      <td>NaN</td>\n",
       "      <td>S</td>\n",
       "    </tr>\n",
       "    <tr>\n",
       "      <th>3</th>\n",
       "      <td>4</td>\n",
       "      <td>1</td>\n",
       "      <td>1</td>\n",
       "      <td>Futrelle, Mrs. Jacques Heath (Lily May Peel)</td>\n",
       "      <td>female</td>\n",
       "      <td>35.0</td>\n",
       "      <td>1</td>\n",
       "      <td>0</td>\n",
       "      <td>113803</td>\n",
       "      <td>53.1000</td>\n",
       "      <td>C123</td>\n",
       "      <td>S</td>\n",
       "    </tr>\n",
       "    <tr>\n",
       "      <th>4</th>\n",
       "      <td>5</td>\n",
       "      <td>0</td>\n",
       "      <td>3</td>\n",
       "      <td>Allen, Mr. William Henry</td>\n",
       "      <td>male</td>\n",
       "      <td>35.0</td>\n",
       "      <td>0</td>\n",
       "      <td>0</td>\n",
       "      <td>373450</td>\n",
       "      <td>8.0500</td>\n",
       "      <td>NaN</td>\n",
       "      <td>S</td>\n",
       "    </tr>\n",
       "  </tbody>\n",
       "</table>\n",
       "</div>"
      ],
      "text/plain": [
       "   PassengerId  Survived  Pclass  \\\n",
       "0            1         0       3   \n",
       "1            2         1       1   \n",
       "2            3         1       3   \n",
       "3            4         1       1   \n",
       "4            5         0       3   \n",
       "\n",
       "                                                Name     Sex   Age  SibSp  \\\n",
       "0                            Braund, Mr. Owen Harris    male  22.0      1   \n",
       "1  Cumings, Mrs. John Bradley (Florence Briggs Th...  female  38.0      1   \n",
       "2                             Heikkinen, Miss. Laina  female  26.0      0   \n",
       "3       Futrelle, Mrs. Jacques Heath (Lily May Peel)  female  35.0      1   \n",
       "4                           Allen, Mr. William Henry    male  35.0      0   \n",
       "\n",
       "   Parch            Ticket     Fare Cabin Embarked  \n",
       "0      0         A/5 21171   7.2500   NaN        S  \n",
       "1      0          PC 17599  71.2833   C85        C  \n",
       "2      0  STON/O2. 3101282   7.9250   NaN        S  \n",
       "3      0            113803  53.1000  C123        S  \n",
       "4      0            373450   8.0500   NaN        S  "
      ]
     },
     "execution_count": 3,
     "metadata": {},
     "output_type": "execute_result"
    }
   ],
   "source": [
    "train_df.head(5)"
   ]
  },
  {
   "cell_type": "code",
   "execution_count": 4,
   "id": "489477c3",
   "metadata": {
    "execution": {
     "iopub.execute_input": "2024-08-20T14:15:09.376486Z",
     "iopub.status.busy": "2024-08-20T14:15:09.375500Z",
     "iopub.status.idle": "2024-08-20T14:15:09.399816Z",
     "shell.execute_reply": "2024-08-20T14:15:09.398702Z"
    },
    "papermill": {
     "duration": 0.042278,
     "end_time": "2024-08-20T14:15:09.402551",
     "exception": false,
     "start_time": "2024-08-20T14:15:09.360273",
     "status": "completed"
    },
    "tags": []
   },
   "outputs": [
    {
     "name": "stdout",
     "output_type": "stream",
     "text": [
      "<class 'pandas.core.frame.DataFrame'>\n",
      "RangeIndex: 891 entries, 0 to 890\n",
      "Data columns (total 12 columns):\n",
      " #   Column       Non-Null Count  Dtype  \n",
      "---  ------       --------------  -----  \n",
      " 0   PassengerId  891 non-null    int64  \n",
      " 1   Survived     891 non-null    int64  \n",
      " 2   Pclass       891 non-null    int64  \n",
      " 3   Name         891 non-null    object \n",
      " 4   Sex          891 non-null    object \n",
      " 5   Age          714 non-null    float64\n",
      " 6   SibSp        891 non-null    int64  \n",
      " 7   Parch        891 non-null    int64  \n",
      " 8   Ticket       891 non-null    object \n",
      " 9   Fare         891 non-null    float64\n",
      " 10  Cabin        204 non-null    object \n",
      " 11  Embarked     889 non-null    object \n",
      "dtypes: float64(2), int64(5), object(5)\n",
      "memory usage: 83.7+ KB\n"
     ]
    }
   ],
   "source": [
    "train_df.info()"
   ]
  },
  {
   "cell_type": "code",
   "execution_count": 5,
   "id": "153553c9",
   "metadata": {
    "execution": {
     "iopub.execute_input": "2024-08-20T14:15:09.433119Z",
     "iopub.status.busy": "2024-08-20T14:15:09.432730Z",
     "iopub.status.idle": "2024-08-20T14:15:09.464009Z",
     "shell.execute_reply": "2024-08-20T14:15:09.462776Z"
    },
    "papermill": {
     "duration": 0.04939,
     "end_time": "2024-08-20T14:15:09.466471",
     "exception": false,
     "start_time": "2024-08-20T14:15:09.417081",
     "status": "completed"
    },
    "tags": []
   },
   "outputs": [
    {
     "data": {
      "text/html": [
       "<div>\n",
       "<style scoped>\n",
       "    .dataframe tbody tr th:only-of-type {\n",
       "        vertical-align: middle;\n",
       "    }\n",
       "\n",
       "    .dataframe tbody tr th {\n",
       "        vertical-align: top;\n",
       "    }\n",
       "\n",
       "    .dataframe thead th {\n",
       "        text-align: right;\n",
       "    }\n",
       "</style>\n",
       "<table border=\"1\" class=\"dataframe\">\n",
       "  <thead>\n",
       "    <tr style=\"text-align: right;\">\n",
       "      <th></th>\n",
       "      <th>PassengerId</th>\n",
       "      <th>Survived</th>\n",
       "      <th>Pclass</th>\n",
       "      <th>Age</th>\n",
       "      <th>SibSp</th>\n",
       "      <th>Parch</th>\n",
       "      <th>Fare</th>\n",
       "    </tr>\n",
       "  </thead>\n",
       "  <tbody>\n",
       "    <tr>\n",
       "      <th>count</th>\n",
       "      <td>891.000000</td>\n",
       "      <td>891.000000</td>\n",
       "      <td>891.000000</td>\n",
       "      <td>714.000000</td>\n",
       "      <td>891.000000</td>\n",
       "      <td>891.000000</td>\n",
       "      <td>891.000000</td>\n",
       "    </tr>\n",
       "    <tr>\n",
       "      <th>mean</th>\n",
       "      <td>446.000000</td>\n",
       "      <td>0.383838</td>\n",
       "      <td>2.308642</td>\n",
       "      <td>29.699118</td>\n",
       "      <td>0.523008</td>\n",
       "      <td>0.381594</td>\n",
       "      <td>32.204208</td>\n",
       "    </tr>\n",
       "    <tr>\n",
       "      <th>std</th>\n",
       "      <td>257.353842</td>\n",
       "      <td>0.486592</td>\n",
       "      <td>0.836071</td>\n",
       "      <td>14.526497</td>\n",
       "      <td>1.102743</td>\n",
       "      <td>0.806057</td>\n",
       "      <td>49.693429</td>\n",
       "    </tr>\n",
       "    <tr>\n",
       "      <th>min</th>\n",
       "      <td>1.000000</td>\n",
       "      <td>0.000000</td>\n",
       "      <td>1.000000</td>\n",
       "      <td>0.420000</td>\n",
       "      <td>0.000000</td>\n",
       "      <td>0.000000</td>\n",
       "      <td>0.000000</td>\n",
       "    </tr>\n",
       "    <tr>\n",
       "      <th>25%</th>\n",
       "      <td>223.500000</td>\n",
       "      <td>0.000000</td>\n",
       "      <td>2.000000</td>\n",
       "      <td>20.125000</td>\n",
       "      <td>0.000000</td>\n",
       "      <td>0.000000</td>\n",
       "      <td>7.910400</td>\n",
       "    </tr>\n",
       "    <tr>\n",
       "      <th>50%</th>\n",
       "      <td>446.000000</td>\n",
       "      <td>0.000000</td>\n",
       "      <td>3.000000</td>\n",
       "      <td>28.000000</td>\n",
       "      <td>0.000000</td>\n",
       "      <td>0.000000</td>\n",
       "      <td>14.454200</td>\n",
       "    </tr>\n",
       "    <tr>\n",
       "      <th>75%</th>\n",
       "      <td>668.500000</td>\n",
       "      <td>1.000000</td>\n",
       "      <td>3.000000</td>\n",
       "      <td>38.000000</td>\n",
       "      <td>1.000000</td>\n",
       "      <td>0.000000</td>\n",
       "      <td>31.000000</td>\n",
       "    </tr>\n",
       "    <tr>\n",
       "      <th>max</th>\n",
       "      <td>891.000000</td>\n",
       "      <td>1.000000</td>\n",
       "      <td>3.000000</td>\n",
       "      <td>80.000000</td>\n",
       "      <td>8.000000</td>\n",
       "      <td>6.000000</td>\n",
       "      <td>512.329200</td>\n",
       "    </tr>\n",
       "  </tbody>\n",
       "</table>\n",
       "</div>"
      ],
      "text/plain": [
       "       PassengerId    Survived      Pclass         Age       SibSp  \\\n",
       "count   891.000000  891.000000  891.000000  714.000000  891.000000   \n",
       "mean    446.000000    0.383838    2.308642   29.699118    0.523008   \n",
       "std     257.353842    0.486592    0.836071   14.526497    1.102743   \n",
       "min       1.000000    0.000000    1.000000    0.420000    0.000000   \n",
       "25%     223.500000    0.000000    2.000000   20.125000    0.000000   \n",
       "50%     446.000000    0.000000    3.000000   28.000000    0.000000   \n",
       "75%     668.500000    1.000000    3.000000   38.000000    1.000000   \n",
       "max     891.000000    1.000000    3.000000   80.000000    8.000000   \n",
       "\n",
       "            Parch        Fare  \n",
       "count  891.000000  891.000000  \n",
       "mean     0.381594   32.204208  \n",
       "std      0.806057   49.693429  \n",
       "min      0.000000    0.000000  \n",
       "25%      0.000000    7.910400  \n",
       "50%      0.000000   14.454200  \n",
       "75%      0.000000   31.000000  \n",
       "max      6.000000  512.329200  "
      ]
     },
     "execution_count": 5,
     "metadata": {},
     "output_type": "execute_result"
    }
   ],
   "source": [
    "train_df.describe()"
   ]
  },
  {
   "cell_type": "code",
   "execution_count": 6,
   "id": "85bc2deb",
   "metadata": {
    "execution": {
     "iopub.execute_input": "2024-08-20T14:15:09.497910Z",
     "iopub.status.busy": "2024-08-20T14:15:09.497508Z",
     "iopub.status.idle": "2024-08-20T14:15:09.518921Z",
     "shell.execute_reply": "2024-08-20T14:15:09.517871Z"
    },
    "papermill": {
     "duration": 0.039778,
     "end_time": "2024-08-20T14:15:09.521261",
     "exception": false,
     "start_time": "2024-08-20T14:15:09.481483",
     "status": "completed"
    },
    "tags": []
   },
   "outputs": [
    {
     "data": {
      "text/html": [
       "<div>\n",
       "<style scoped>\n",
       "    .dataframe tbody tr th:only-of-type {\n",
       "        vertical-align: middle;\n",
       "    }\n",
       "\n",
       "    .dataframe tbody tr th {\n",
       "        vertical-align: top;\n",
       "    }\n",
       "\n",
       "    .dataframe thead th {\n",
       "        text-align: right;\n",
       "    }\n",
       "</style>\n",
       "<table border=\"1\" class=\"dataframe\">\n",
       "  <thead>\n",
       "    <tr style=\"text-align: right;\">\n",
       "      <th></th>\n",
       "      <th>Name</th>\n",
       "      <th>Sex</th>\n",
       "      <th>Ticket</th>\n",
       "      <th>Cabin</th>\n",
       "      <th>Embarked</th>\n",
       "    </tr>\n",
       "  </thead>\n",
       "  <tbody>\n",
       "    <tr>\n",
       "      <th>count</th>\n",
       "      <td>891</td>\n",
       "      <td>891</td>\n",
       "      <td>891</td>\n",
       "      <td>204</td>\n",
       "      <td>889</td>\n",
       "    </tr>\n",
       "    <tr>\n",
       "      <th>unique</th>\n",
       "      <td>891</td>\n",
       "      <td>2</td>\n",
       "      <td>681</td>\n",
       "      <td>147</td>\n",
       "      <td>3</td>\n",
       "    </tr>\n",
       "    <tr>\n",
       "      <th>top</th>\n",
       "      <td>Braund, Mr. Owen Harris</td>\n",
       "      <td>male</td>\n",
       "      <td>347082</td>\n",
       "      <td>B96 B98</td>\n",
       "      <td>S</td>\n",
       "    </tr>\n",
       "    <tr>\n",
       "      <th>freq</th>\n",
       "      <td>1</td>\n",
       "      <td>577</td>\n",
       "      <td>7</td>\n",
       "      <td>4</td>\n",
       "      <td>644</td>\n",
       "    </tr>\n",
       "  </tbody>\n",
       "</table>\n",
       "</div>"
      ],
      "text/plain": [
       "                           Name   Sex  Ticket    Cabin Embarked\n",
       "count                       891   891     891      204      889\n",
       "unique                      891     2     681      147        3\n",
       "top     Braund, Mr. Owen Harris  male  347082  B96 B98        S\n",
       "freq                          1   577       7        4      644"
      ]
     },
     "execution_count": 6,
     "metadata": {},
     "output_type": "execute_result"
    }
   ],
   "source": [
    "train_df.describe(include=['object'])"
   ]
  },
  {
   "cell_type": "code",
   "execution_count": 7,
   "id": "47f50d2c",
   "metadata": {
    "execution": {
     "iopub.execute_input": "2024-08-20T14:15:09.551708Z",
     "iopub.status.busy": "2024-08-20T14:15:09.551295Z",
     "iopub.status.idle": "2024-08-20T14:15:09.566419Z",
     "shell.execute_reply": "2024-08-20T14:15:09.565312Z"
    },
    "papermill": {
     "duration": 0.033388,
     "end_time": "2024-08-20T14:15:09.569003",
     "exception": false,
     "start_time": "2024-08-20T14:15:09.535615",
     "status": "completed"
    },
    "tags": []
   },
   "outputs": [
    {
     "data": {
      "text/html": [
       "<div>\n",
       "<style scoped>\n",
       "    .dataframe tbody tr th:only-of-type {\n",
       "        vertical-align: middle;\n",
       "    }\n",
       "\n",
       "    .dataframe tbody tr th {\n",
       "        vertical-align: top;\n",
       "    }\n",
       "\n",
       "    .dataframe thead th {\n",
       "        text-align: right;\n",
       "    }\n",
       "</style>\n",
       "<table border=\"1\" class=\"dataframe\">\n",
       "  <thead>\n",
       "    <tr style=\"text-align: right;\">\n",
       "      <th></th>\n",
       "      <th>Pclass</th>\n",
       "      <th>Survived</th>\n",
       "    </tr>\n",
       "  </thead>\n",
       "  <tbody>\n",
       "    <tr>\n",
       "      <th>0</th>\n",
       "      <td>1</td>\n",
       "      <td>0.629630</td>\n",
       "    </tr>\n",
       "    <tr>\n",
       "      <th>1</th>\n",
       "      <td>2</td>\n",
       "      <td>0.472826</td>\n",
       "    </tr>\n",
       "    <tr>\n",
       "      <th>2</th>\n",
       "      <td>3</td>\n",
       "      <td>0.242363</td>\n",
       "    </tr>\n",
       "  </tbody>\n",
       "</table>\n",
       "</div>"
      ],
      "text/plain": [
       "   Pclass  Survived\n",
       "0       1  0.629630\n",
       "1       2  0.472826\n",
       "2       3  0.242363"
      ]
     },
     "execution_count": 7,
     "metadata": {},
     "output_type": "execute_result"
    }
   ],
   "source": [
    "# Impact of class on survival\n",
    "train_df.groupby(['Pclass'], as_index=False)['Survived'].mean()"
   ]
  },
  {
   "cell_type": "code",
   "execution_count": 8,
   "id": "9f4df6a8",
   "metadata": {
    "execution": {
     "iopub.execute_input": "2024-08-20T14:15:09.600943Z",
     "iopub.status.busy": "2024-08-20T14:15:09.600267Z",
     "iopub.status.idle": "2024-08-20T14:15:09.612465Z",
     "shell.execute_reply": "2024-08-20T14:15:09.611308Z"
    },
    "papermill": {
     "duration": 0.030469,
     "end_time": "2024-08-20T14:15:09.614897",
     "exception": false,
     "start_time": "2024-08-20T14:15:09.584428",
     "status": "completed"
    },
    "tags": []
   },
   "outputs": [
    {
     "data": {
      "text/html": [
       "<div>\n",
       "<style scoped>\n",
       "    .dataframe tbody tr th:only-of-type {\n",
       "        vertical-align: middle;\n",
       "    }\n",
       "\n",
       "    .dataframe tbody tr th {\n",
       "        vertical-align: top;\n",
       "    }\n",
       "\n",
       "    .dataframe thead th {\n",
       "        text-align: right;\n",
       "    }\n",
       "</style>\n",
       "<table border=\"1\" class=\"dataframe\">\n",
       "  <thead>\n",
       "    <tr style=\"text-align: right;\">\n",
       "      <th></th>\n",
       "      <th>Sex</th>\n",
       "      <th>Survived</th>\n",
       "    </tr>\n",
       "  </thead>\n",
       "  <tbody>\n",
       "    <tr>\n",
       "      <th>0</th>\n",
       "      <td>female</td>\n",
       "      <td>0.742038</td>\n",
       "    </tr>\n",
       "    <tr>\n",
       "      <th>1</th>\n",
       "      <td>male</td>\n",
       "      <td>0.188908</td>\n",
       "    </tr>\n",
       "  </tbody>\n",
       "</table>\n",
       "</div>"
      ],
      "text/plain": [
       "      Sex  Survived\n",
       "0  female  0.742038\n",
       "1    male  0.188908"
      ]
     },
     "execution_count": 8,
     "metadata": {},
     "output_type": "execute_result"
    }
   ],
   "source": [
    "# Impact of sex on survival\n",
    "train_df.groupby(['Sex'], as_index=False)['Survived'].mean()"
   ]
  },
  {
   "cell_type": "code",
   "execution_count": 9,
   "id": "168af318",
   "metadata": {
    "execution": {
     "iopub.execute_input": "2024-08-20T14:15:09.646728Z",
     "iopub.status.busy": "2024-08-20T14:15:09.646373Z",
     "iopub.status.idle": "2024-08-20T14:15:09.658733Z",
     "shell.execute_reply": "2024-08-20T14:15:09.657630Z"
    },
    "papermill": {
     "duration": 0.031134,
     "end_time": "2024-08-20T14:15:09.661164",
     "exception": false,
     "start_time": "2024-08-20T14:15:09.630030",
     "status": "completed"
    },
    "tags": []
   },
   "outputs": [
    {
     "data": {
      "text/html": [
       "<div>\n",
       "<style scoped>\n",
       "    .dataframe tbody tr th:only-of-type {\n",
       "        vertical-align: middle;\n",
       "    }\n",
       "\n",
       "    .dataframe tbody tr th {\n",
       "        vertical-align: top;\n",
       "    }\n",
       "\n",
       "    .dataframe thead th {\n",
       "        text-align: right;\n",
       "    }\n",
       "</style>\n",
       "<table border=\"1\" class=\"dataframe\">\n",
       "  <thead>\n",
       "    <tr style=\"text-align: right;\">\n",
       "      <th></th>\n",
       "      <th>SibSp</th>\n",
       "      <th>Survived</th>\n",
       "    </tr>\n",
       "  </thead>\n",
       "  <tbody>\n",
       "    <tr>\n",
       "      <th>0</th>\n",
       "      <td>0</td>\n",
       "      <td>0.345395</td>\n",
       "    </tr>\n",
       "    <tr>\n",
       "      <th>1</th>\n",
       "      <td>1</td>\n",
       "      <td>0.535885</td>\n",
       "    </tr>\n",
       "    <tr>\n",
       "      <th>2</th>\n",
       "      <td>2</td>\n",
       "      <td>0.464286</td>\n",
       "    </tr>\n",
       "    <tr>\n",
       "      <th>3</th>\n",
       "      <td>3</td>\n",
       "      <td>0.250000</td>\n",
       "    </tr>\n",
       "    <tr>\n",
       "      <th>4</th>\n",
       "      <td>4</td>\n",
       "      <td>0.166667</td>\n",
       "    </tr>\n",
       "    <tr>\n",
       "      <th>5</th>\n",
       "      <td>5</td>\n",
       "      <td>0.000000</td>\n",
       "    </tr>\n",
       "    <tr>\n",
       "      <th>6</th>\n",
       "      <td>8</td>\n",
       "      <td>0.000000</td>\n",
       "    </tr>\n",
       "  </tbody>\n",
       "</table>\n",
       "</div>"
      ],
      "text/plain": [
       "   SibSp  Survived\n",
       "0      0  0.345395\n",
       "1      1  0.535885\n",
       "2      2  0.464286\n",
       "3      3  0.250000\n",
       "4      4  0.166667\n",
       "5      5  0.000000\n",
       "6      8  0.000000"
      ]
     },
     "execution_count": 9,
     "metadata": {},
     "output_type": "execute_result"
    }
   ],
   "source": [
    "# Impact of SibSp (siblings/spouses) on survival\n",
    "train_df.groupby(['SibSp'],as_index=False)['Survived'].mean()"
   ]
  },
  {
   "cell_type": "code",
   "execution_count": 10,
   "id": "14c1d312",
   "metadata": {
    "execution": {
     "iopub.execute_input": "2024-08-20T14:15:09.692539Z",
     "iopub.status.busy": "2024-08-20T14:15:09.692113Z",
     "iopub.status.idle": "2024-08-20T14:15:09.709488Z",
     "shell.execute_reply": "2024-08-20T14:15:09.707988Z"
    },
    "papermill": {
     "duration": 0.036831,
     "end_time": "2024-08-20T14:15:09.712916",
     "exception": false,
     "start_time": "2024-08-20T14:15:09.676085",
     "status": "completed"
    },
    "tags": []
   },
   "outputs": [
    {
     "data": {
      "text/html": [
       "<div>\n",
       "<style scoped>\n",
       "    .dataframe tbody tr th:only-of-type {\n",
       "        vertical-align: middle;\n",
       "    }\n",
       "\n",
       "    .dataframe tbody tr th {\n",
       "        vertical-align: top;\n",
       "    }\n",
       "\n",
       "    .dataframe thead th {\n",
       "        text-align: right;\n",
       "    }\n",
       "</style>\n",
       "<table border=\"1\" class=\"dataframe\">\n",
       "  <thead>\n",
       "    <tr style=\"text-align: right;\">\n",
       "      <th></th>\n",
       "      <th>Parch</th>\n",
       "      <th>Survived</th>\n",
       "    </tr>\n",
       "  </thead>\n",
       "  <tbody>\n",
       "    <tr>\n",
       "      <th>0</th>\n",
       "      <td>0</td>\n",
       "      <td>0.343658</td>\n",
       "    </tr>\n",
       "    <tr>\n",
       "      <th>1</th>\n",
       "      <td>1</td>\n",
       "      <td>0.550847</td>\n",
       "    </tr>\n",
       "    <tr>\n",
       "      <th>2</th>\n",
       "      <td>2</td>\n",
       "      <td>0.500000</td>\n",
       "    </tr>\n",
       "    <tr>\n",
       "      <th>3</th>\n",
       "      <td>3</td>\n",
       "      <td>0.600000</td>\n",
       "    </tr>\n",
       "    <tr>\n",
       "      <th>4</th>\n",
       "      <td>4</td>\n",
       "      <td>0.000000</td>\n",
       "    </tr>\n",
       "    <tr>\n",
       "      <th>5</th>\n",
       "      <td>5</td>\n",
       "      <td>0.200000</td>\n",
       "    </tr>\n",
       "    <tr>\n",
       "      <th>6</th>\n",
       "      <td>6</td>\n",
       "      <td>0.000000</td>\n",
       "    </tr>\n",
       "  </tbody>\n",
       "</table>\n",
       "</div>"
      ],
      "text/plain": [
       "   Parch  Survived\n",
       "0      0  0.343658\n",
       "1      1  0.550847\n",
       "2      2  0.500000\n",
       "3      3  0.600000\n",
       "4      4  0.000000\n",
       "5      5  0.200000\n",
       "6      6  0.000000"
      ]
     },
     "execution_count": 10,
     "metadata": {},
     "output_type": "execute_result"
    }
   ],
   "source": [
    "# Impact of parch (children/parents) on survival\n",
    "train_df.groupby(['Parch'], as_index=False)['Survived'].mean()"
   ]
  },
  {
   "cell_type": "code",
   "execution_count": 11,
   "id": "1ffa80ea",
   "metadata": {
    "execution": {
     "iopub.execute_input": "2024-08-20T14:15:09.757407Z",
     "iopub.status.busy": "2024-08-20T14:15:09.756992Z",
     "iopub.status.idle": "2024-08-20T14:15:09.765474Z",
     "shell.execute_reply": "2024-08-20T14:15:09.764118Z"
    },
    "papermill": {
     "duration": 0.034783,
     "end_time": "2024-08-20T14:15:09.768667",
     "exception": false,
     "start_time": "2024-08-20T14:15:09.733884",
     "status": "completed"
    },
    "tags": []
   },
   "outputs": [],
   "source": [
    "# Checking tha family size\n",
    "train_df['family_size']=train_df['SibSp'] + train_df['Parch'] + 1 \n",
    "test_df['family_size']=test_df['SibSp'] + test_df['Parch']+1"
   ]
  },
  {
   "cell_type": "code",
   "execution_count": 12,
   "id": "94b49763",
   "metadata": {
    "execution": {
     "iopub.execute_input": "2024-08-20T14:15:09.807766Z",
     "iopub.status.busy": "2024-08-20T14:15:09.807207Z",
     "iopub.status.idle": "2024-08-20T14:15:09.820829Z",
     "shell.execute_reply": "2024-08-20T14:15:09.819827Z"
    },
    "papermill": {
     "duration": 0.035149,
     "end_time": "2024-08-20T14:15:09.823562",
     "exception": false,
     "start_time": "2024-08-20T14:15:09.788413",
     "status": "completed"
    },
    "tags": []
   },
   "outputs": [
    {
     "data": {
      "text/html": [
       "<div>\n",
       "<style scoped>\n",
       "    .dataframe tbody tr th:only-of-type {\n",
       "        vertical-align: middle;\n",
       "    }\n",
       "\n",
       "    .dataframe tbody tr th {\n",
       "        vertical-align: top;\n",
       "    }\n",
       "\n",
       "    .dataframe thead th {\n",
       "        text-align: right;\n",
       "    }\n",
       "</style>\n",
       "<table border=\"1\" class=\"dataframe\">\n",
       "  <thead>\n",
       "    <tr style=\"text-align: right;\">\n",
       "      <th></th>\n",
       "      <th>family_size</th>\n",
       "      <th>Survived</th>\n",
       "    </tr>\n",
       "  </thead>\n",
       "  <tbody>\n",
       "    <tr>\n",
       "      <th>0</th>\n",
       "      <td>1</td>\n",
       "      <td>0.303538</td>\n",
       "    </tr>\n",
       "    <tr>\n",
       "      <th>1</th>\n",
       "      <td>2</td>\n",
       "      <td>0.552795</td>\n",
       "    </tr>\n",
       "    <tr>\n",
       "      <th>2</th>\n",
       "      <td>3</td>\n",
       "      <td>0.578431</td>\n",
       "    </tr>\n",
       "    <tr>\n",
       "      <th>3</th>\n",
       "      <td>4</td>\n",
       "      <td>0.724138</td>\n",
       "    </tr>\n",
       "    <tr>\n",
       "      <th>4</th>\n",
       "      <td>5</td>\n",
       "      <td>0.200000</td>\n",
       "    </tr>\n",
       "    <tr>\n",
       "      <th>5</th>\n",
       "      <td>6</td>\n",
       "      <td>0.136364</td>\n",
       "    </tr>\n",
       "    <tr>\n",
       "      <th>6</th>\n",
       "      <td>7</td>\n",
       "      <td>0.333333</td>\n",
       "    </tr>\n",
       "    <tr>\n",
       "      <th>7</th>\n",
       "      <td>8</td>\n",
       "      <td>0.000000</td>\n",
       "    </tr>\n",
       "    <tr>\n",
       "      <th>8</th>\n",
       "      <td>11</td>\n",
       "      <td>0.000000</td>\n",
       "    </tr>\n",
       "  </tbody>\n",
       "</table>\n",
       "</div>"
      ],
      "text/plain": [
       "   family_size  Survived\n",
       "0            1  0.303538\n",
       "1            2  0.552795\n",
       "2            3  0.578431\n",
       "3            4  0.724138\n",
       "4            5  0.200000\n",
       "5            6  0.136364\n",
       "6            7  0.333333\n",
       "7            8  0.000000\n",
       "8           11  0.000000"
      ]
     },
     "execution_count": 12,
     "metadata": {},
     "output_type": "execute_result"
    }
   ],
   "source": [
    "# Impact of family size on survival\n",
    "train_df.groupby(['family_size'], as_index=False)['Survived'].mean()"
   ]
  },
  {
   "cell_type": "code",
   "execution_count": 13,
   "id": "47424748",
   "metadata": {
    "execution": {
     "iopub.execute_input": "2024-08-20T14:15:09.859362Z",
     "iopub.status.busy": "2024-08-20T14:15:09.858130Z",
     "iopub.status.idle": "2024-08-20T14:15:09.867613Z",
     "shell.execute_reply": "2024-08-20T14:15:09.866390Z"
    },
    "papermill": {
     "duration": 0.029285,
     "end_time": "2024-08-20T14:15:09.870279",
     "exception": false,
     "start_time": "2024-08-20T14:15:09.840994",
     "status": "completed"
    },
    "tags": []
   },
   "outputs": [],
   "source": [
    "family_map = {1:'Alone', 2:'Small', 3:'Small', 4:'Small', 5:'Medium', \n",
    "             6:'Medium', 7:'Large', 8:'Large', 11:'Large'}\n",
    "train_df['family_size_grouped']=train_df['family_size'].map(family_map)\n",
    "test_df['family_size_grouped']=test_df['family_size'].map(family_map)"
   ]
  },
  {
   "cell_type": "code",
   "execution_count": 14,
   "id": "4e1dc36e",
   "metadata": {
    "execution": {
     "iopub.execute_input": "2024-08-20T14:15:09.904277Z",
     "iopub.status.busy": "2024-08-20T14:15:09.903887Z",
     "iopub.status.idle": "2024-08-20T14:15:09.917494Z",
     "shell.execute_reply": "2024-08-20T14:15:09.916306Z"
    },
    "papermill": {
     "duration": 0.03328,
     "end_time": "2024-08-20T14:15:09.919860",
     "exception": false,
     "start_time": "2024-08-20T14:15:09.886580",
     "status": "completed"
    },
    "tags": []
   },
   "outputs": [
    {
     "data": {
      "text/html": [
       "<div>\n",
       "<style scoped>\n",
       "    .dataframe tbody tr th:only-of-type {\n",
       "        vertical-align: middle;\n",
       "    }\n",
       "\n",
       "    .dataframe tbody tr th {\n",
       "        vertical-align: top;\n",
       "    }\n",
       "\n",
       "    .dataframe thead th {\n",
       "        text-align: right;\n",
       "    }\n",
       "</style>\n",
       "<table border=\"1\" class=\"dataframe\">\n",
       "  <thead>\n",
       "    <tr style=\"text-align: right;\">\n",
       "      <th></th>\n",
       "      <th>family_size_grouped</th>\n",
       "      <th>Survived</th>\n",
       "    </tr>\n",
       "  </thead>\n",
       "  <tbody>\n",
       "    <tr>\n",
       "      <th>0</th>\n",
       "      <td>Alone</td>\n",
       "      <td>0.303538</td>\n",
       "    </tr>\n",
       "    <tr>\n",
       "      <th>1</th>\n",
       "      <td>Large</td>\n",
       "      <td>0.160000</td>\n",
       "    </tr>\n",
       "    <tr>\n",
       "      <th>2</th>\n",
       "      <td>Medium</td>\n",
       "      <td>0.162162</td>\n",
       "    </tr>\n",
       "    <tr>\n",
       "      <th>3</th>\n",
       "      <td>Small</td>\n",
       "      <td>0.578767</td>\n",
       "    </tr>\n",
       "  </tbody>\n",
       "</table>\n",
       "</div>"
      ],
      "text/plain": [
       "  family_size_grouped  Survived\n",
       "0               Alone  0.303538\n",
       "1               Large  0.160000\n",
       "2              Medium  0.162162\n",
       "3               Small  0.578767"
      ]
     },
     "execution_count": 14,
     "metadata": {},
     "output_type": "execute_result"
    }
   ],
   "source": [
    "train_df.groupby(['family_size_grouped'], as_index=False)['Survived'].mean()"
   ]
  },
  {
   "cell_type": "code",
   "execution_count": 15,
   "id": "86dd8ca1",
   "metadata": {
    "execution": {
     "iopub.execute_input": "2024-08-20T14:15:09.961473Z",
     "iopub.status.busy": "2024-08-20T14:15:09.960910Z",
     "iopub.status.idle": "2024-08-20T14:15:09.974102Z",
     "shell.execute_reply": "2024-08-20T14:15:09.972884Z"
    },
    "papermill": {
     "duration": 0.0387,
     "end_time": "2024-08-20T14:15:09.976398",
     "exception": false,
     "start_time": "2024-08-20T14:15:09.937698",
     "status": "completed"
    },
    "tags": []
   },
   "outputs": [
    {
     "data": {
      "text/html": [
       "<div>\n",
       "<style scoped>\n",
       "    .dataframe tbody tr th:only-of-type {\n",
       "        vertical-align: middle;\n",
       "    }\n",
       "\n",
       "    .dataframe tbody tr th {\n",
       "        vertical-align: top;\n",
       "    }\n",
       "\n",
       "    .dataframe thead th {\n",
       "        text-align: right;\n",
       "    }\n",
       "</style>\n",
       "<table border=\"1\" class=\"dataframe\">\n",
       "  <thead>\n",
       "    <tr style=\"text-align: right;\">\n",
       "      <th></th>\n",
       "      <th>Embarked</th>\n",
       "      <th>Survived</th>\n",
       "    </tr>\n",
       "  </thead>\n",
       "  <tbody>\n",
       "    <tr>\n",
       "      <th>0</th>\n",
       "      <td>C</td>\n",
       "      <td>0.553571</td>\n",
       "    </tr>\n",
       "    <tr>\n",
       "      <th>1</th>\n",
       "      <td>Q</td>\n",
       "      <td>0.389610</td>\n",
       "    </tr>\n",
       "    <tr>\n",
       "      <th>2</th>\n",
       "      <td>S</td>\n",
       "      <td>0.336957</td>\n",
       "    </tr>\n",
       "  </tbody>\n",
       "</table>\n",
       "</div>"
      ],
      "text/plain": [
       "  Embarked  Survived\n",
       "0        C  0.553571\n",
       "1        Q  0.389610\n",
       "2        S  0.336957"
      ]
     },
     "execution_count": 15,
     "metadata": {},
     "output_type": "execute_result"
    }
   ],
   "source": [
    "# Impact of port of embarkation on survival\n",
    "train_df.groupby(['Embarked'], as_index=False)['Survived'].mean()"
   ]
  },
  {
   "cell_type": "code",
   "execution_count": 16,
   "id": "ab103465",
   "metadata": {
    "execution": {
     "iopub.execute_input": "2024-08-20T14:15:10.010450Z",
     "iopub.status.busy": "2024-08-20T14:15:10.009931Z",
     "iopub.status.idle": "2024-08-20T14:15:10.372259Z",
     "shell.execute_reply": "2024-08-20T14:15:10.371072Z"
    },
    "papermill": {
     "duration": 0.382776,
     "end_time": "2024-08-20T14:15:10.374914",
     "exception": false,
     "start_time": "2024-08-20T14:15:09.992138",
     "status": "completed"
    },
    "tags": []
   },
   "outputs": [
    {
     "name": "stderr",
     "output_type": "stream",
     "text": [
      "/opt/conda/lib/python3.10/site-packages/seaborn/_oldcore.py:1119: FutureWarning: use_inf_as_na option is deprecated and will be removed in a future version. Convert inf values to NaN before operating instead.\n",
      "  with pd.option_context('mode.use_inf_as_na', True):\n",
      "/opt/conda/lib/python3.10/site-packages/seaborn/_oldcore.py:1075: FutureWarning: When grouping with a length-1 list-like, you will need to pass a length-1 tuple to get_group in a future version of pandas. Pass `(name,)` instead of `name` to silence this warning.\n",
      "  data_subset = grouped_data.get_group(pd_key)\n",
      "/opt/conda/lib/python3.10/site-packages/seaborn/_oldcore.py:1075: FutureWarning: When grouping with a length-1 list-like, you will need to pass a length-1 tuple to get_group in a future version of pandas. Pass `(name,)` instead of `name` to silence this warning.\n",
      "  data_subset = grouped_data.get_group(pd_key)\n",
      "/opt/conda/lib/python3.10/site-packages/seaborn/_oldcore.py:1075: FutureWarning: When grouping with a length-1 list-like, you will need to pass a length-1 tuple to get_group in a future version of pandas. Pass `(name,)` instead of `name` to silence this warning.\n",
      "  data_subset = grouped_data.get_group(pd_key)\n"
     ]
    },
    {
     "data": {
      "image/png": "[encoded data removed]",
      "text/plain": [
       "<Figure size 640x480 with 1 Axes>"
      ]
     },
     "metadata": {},
     "output_type": "display_data"
    }
   ],
   "source": [
    "# Age x Survived\n",
    "\n",
    "g = sns.histplot(data=train_df, x='Age', hue='Survived', binwidth=10, multiple='stack')\n",
    "g.set_ylabel('')\n",
    "g.set_yticks([])\n",
    "sns.despine(bottom = True, left=True)"
   ]
  },
  {
   "cell_type": "code",
   "execution_count": 17,
   "id": "e42507cb",
   "metadata": {
    "execution": {
     "iopub.execute_input": "2024-08-20T14:15:10.410141Z",
     "iopub.status.busy": "2024-08-20T14:15:10.409739Z",
     "iopub.status.idle": "2024-08-20T14:15:10.430584Z",
     "shell.execute_reply": "2024-08-20T14:15:10.429287Z"
    },
    "papermill": {
     "duration": 0.042858,
     "end_time": "2024-08-20T14:15:10.433649",
     "exception": false,
     "start_time": "2024-08-20T14:15:10.390791",
     "status": "completed"
    },
    "tags": []
   },
   "outputs": [],
   "source": [
    "# Create discrete bins of Age\n",
    "train_df['age_cut']= pd.qcut(train_df['Age'], 8)\n",
    "test_df['age_cut']=pd.qcut(test_df['Age'], 8)"
   ]
  },
  {
   "cell_type": "code",
   "execution_count": 18,
   "id": "38381d31",
   "metadata": {
    "execution": {
     "iopub.execute_input": "2024-08-20T14:15:10.471038Z",
     "iopub.status.busy": "2024-08-20T14:15:10.470097Z",
     "iopub.status.idle": "2024-08-20T14:15:10.489800Z",
     "shell.execute_reply": "2024-08-20T14:15:10.488539Z"
    },
    "papermill": {
     "duration": 0.042034,
     "end_time": "2024-08-20T14:15:10.492885",
     "exception": false,
     "start_time": "2024-08-20T14:15:10.450851",
     "status": "completed"
    },
    "tags": []
   },
   "outputs": [
    {
     "data": {
      "text/html": [
       "<div>\n",
       "<style scoped>\n",
       "    .dataframe tbody tr th:only-of-type {\n",
       "        vertical-align: middle;\n",
       "    }\n",
       "\n",
       "    .dataframe tbody tr th {\n",
       "        vertical-align: top;\n",
       "    }\n",
       "\n",
       "    .dataframe thead th {\n",
       "        text-align: right;\n",
       "    }\n",
       "</style>\n",
       "<table border=\"1\" class=\"dataframe\">\n",
       "  <thead>\n",
       "    <tr style=\"text-align: right;\">\n",
       "      <th></th>\n",
       "      <th>age_cut</th>\n",
       "      <th>Survived</th>\n",
       "    </tr>\n",
       "  </thead>\n",
       "  <tbody>\n",
       "    <tr>\n",
       "      <th>0</th>\n",
       "      <td>(0.419, 16.0]</td>\n",
       "      <td>0.550000</td>\n",
       "    </tr>\n",
       "    <tr>\n",
       "      <th>1</th>\n",
       "      <td>(16.0, 20.125]</td>\n",
       "      <td>0.341772</td>\n",
       "    </tr>\n",
       "    <tr>\n",
       "      <th>2</th>\n",
       "      <td>(20.125, 24.0]</td>\n",
       "      <td>0.367347</td>\n",
       "    </tr>\n",
       "    <tr>\n",
       "      <th>3</th>\n",
       "      <td>(24.0, 28.0]</td>\n",
       "      <td>0.352941</td>\n",
       "    </tr>\n",
       "    <tr>\n",
       "      <th>4</th>\n",
       "      <td>(28.0, 32.312]</td>\n",
       "      <td>0.416667</td>\n",
       "    </tr>\n",
       "    <tr>\n",
       "      <th>5</th>\n",
       "      <td>(32.312, 38.0]</td>\n",
       "      <td>0.450549</td>\n",
       "    </tr>\n",
       "    <tr>\n",
       "      <th>6</th>\n",
       "      <td>(38.0, 47.0]</td>\n",
       "      <td>0.329545</td>\n",
       "    </tr>\n",
       "    <tr>\n",
       "      <th>7</th>\n",
       "      <td>(47.0, 80.0]</td>\n",
       "      <td>0.415730</td>\n",
       "    </tr>\n",
       "  </tbody>\n",
       "</table>\n",
       "</div>"
      ],
      "text/plain": [
       "          age_cut  Survived\n",
       "0   (0.419, 16.0]  0.550000\n",
       "1  (16.0, 20.125]  0.341772\n",
       "2  (20.125, 24.0]  0.367347\n",
       "3    (24.0, 28.0]  0.352941\n",
       "4  (28.0, 32.312]  0.416667\n",
       "5  (32.312, 38.0]  0.450549\n",
       "6    (38.0, 47.0]  0.329545\n",
       "7    (47.0, 80.0]  0.415730"
      ]
     },
     "execution_count": 18,
     "metadata": {},
     "output_type": "execute_result"
    }
   ],
   "source": [
    "train_df.groupby(['age_cut'], as_index=False, observed=True)['Survived'].mean()"
   ]
  },
  {
   "cell_type": "code",
   "execution_count": 19,
   "id": "180b859d",
   "metadata": {
    "execution": {
     "iopub.execute_input": "2024-08-20T14:15:10.528645Z",
     "iopub.status.busy": "2024-08-20T14:15:10.527588Z",
     "iopub.status.idle": "2024-08-20T14:15:10.551523Z",
     "shell.execute_reply": "2024-08-20T14:15:10.550404Z"
    },
    "papermill": {
     "duration": 0.044797,
     "end_time": "2024-08-20T14:15:10.554252",
     "exception": false,
     "start_time": "2024-08-20T14:15:10.509455",
     "status": "completed"
    },
    "tags": []
   },
   "outputs": [
    {
     "data": {
      "text/plain": [
       "Series([], Name: Age, dtype: float64)"
      ]
     },
     "execution_count": 19,
     "metadata": {},
     "output_type": "execute_result"
    }
   ],
   "source": [
    "#Reshaping the Age variable as the min is 0.4 and the max is 80 (there \n",
    "# is a lot of data, so restructuring the variable based on the bins\n",
    "# might ease the modelling)\n",
    "\n",
    "train_df.loc[train_df['Age']<=16, 'Age']=0\n",
    "train_df.loc[(train_df['Age']>16) & (train_df['Age']<= 20.125), 'Age']=1\n",
    "train_df.loc[(train_df['Age']>20.125) & (train_df['Age']<= 24.0), 'Age']=2\n",
    "train_df.loc[(train_df['Age']>24.0) & (train_df['Age']<= 28.0), 'Age']=3\n",
    "train_df.loc[(train_df['Age']>28.0) & (train_df['Age']<= 32.312), 'Age']=4\n",
    "train_df.loc[(train_df['Age']>32.312) & (train_df['Age']<= 38.0), 'Age']=5\n",
    "train_df.loc[(train_df['Age']>38.0) & (train_df['Age']<= 47.0), 'Age']=6\n",
    "train_df.loc[(train_df['Age']>47.0) & (train_df['Age']<= 80.0), 'Age']=7\n",
    "train_df.loc[train_df['Age']>80.0, 'Age']"
   ]
  },
  {
   "cell_type": "code",
   "execution_count": 20,
   "id": "abcd3c22",
   "metadata": {
    "execution": {
     "iopub.execute_input": "2024-08-20T14:15:10.592162Z",
     "iopub.status.busy": "2024-08-20T14:15:10.591691Z",
     "iopub.status.idle": "2024-08-20T14:15:10.619372Z",
     "shell.execute_reply": "2024-08-20T14:15:10.618117Z"
    },
    "papermill": {
     "duration": 0.047957,
     "end_time": "2024-08-20T14:15:10.621991",
     "exception": false,
     "start_time": "2024-08-20T14:15:10.574034",
     "status": "completed"
    },
    "tags": []
   },
   "outputs": [
    {
     "data": {
      "text/plain": [
       "Series([], Name: Age, dtype: float64)"
      ]
     },
     "execution_count": 20,
     "metadata": {},
     "output_type": "execute_result"
    }
   ],
   "source": [
    "test_df.loc[test_df['Age']<=16, 'Age']=0\n",
    "test_df.loc[(test_df['Age']>16) & (test_df['Age']<= 20.125), 'Age']=1\n",
    "test_df.loc[(test_df['Age']>20.125) & (test_df['Age']<= 24.0), 'Age']=2\n",
    "test_df.loc[(test_df['Age']>24.0) & (test_df['Age']<= 28.0), 'Age']=3\n",
    "test_df.loc[(test_df['Age']>28.0) & (test_df['Age']<= 32.312), 'Age']=4\n",
    "test_df.loc[(test_df['Age']>32.312) & (test_df['Age']<= 38.0), 'Age']=5\n",
    "test_df.loc[(test_df['Age']>38.0) & (test_df['Age']<= 47.0), 'Age']=6\n",
    "test_df.loc[(test_df['Age']>47.0) & (test_df['Age']<= 80.0), 'Age']=7\n",
    "test_df.loc[test_df['Age']>80.0, 'Age']"
   ]
  },
  {
   "cell_type": "code",
   "execution_count": 21,
   "id": "e7deaaf3",
   "metadata": {
    "execution": {
     "iopub.execute_input": "2024-08-20T14:15:10.657292Z",
     "iopub.status.busy": "2024-08-20T14:15:10.656272Z",
     "iopub.status.idle": "2024-08-20T14:15:10.680978Z",
     "shell.execute_reply": "2024-08-20T14:15:10.679853Z"
    },
    "papermill": {
     "duration": 0.045173,
     "end_time": "2024-08-20T14:15:10.683622",
     "exception": false,
     "start_time": "2024-08-20T14:15:10.638449",
     "status": "completed"
    },
    "tags": []
   },
   "outputs": [
    {
     "data": {
      "text/html": [
       "<div>\n",
       "<style scoped>\n",
       "    .dataframe tbody tr th:only-of-type {\n",
       "        vertical-align: middle;\n",
       "    }\n",
       "\n",
       "    .dataframe tbody tr th {\n",
       "        vertical-align: top;\n",
       "    }\n",
       "\n",
       "    .dataframe thead th {\n",
       "        text-align: right;\n",
       "    }\n",
       "</style>\n",
       "<table border=\"1\" class=\"dataframe\">\n",
       "  <thead>\n",
       "    <tr style=\"text-align: right;\">\n",
       "      <th></th>\n",
       "      <th>PassengerId</th>\n",
       "      <th>Survived</th>\n",
       "      <th>Pclass</th>\n",
       "      <th>Name</th>\n",
       "      <th>Sex</th>\n",
       "      <th>Age</th>\n",
       "      <th>SibSp</th>\n",
       "      <th>Parch</th>\n",
       "      <th>Ticket</th>\n",
       "      <th>Fare</th>\n",
       "      <th>Cabin</th>\n",
       "      <th>Embarked</th>\n",
       "      <th>family_size</th>\n",
       "      <th>family_size_grouped</th>\n",
       "      <th>age_cut</th>\n",
       "    </tr>\n",
       "  </thead>\n",
       "  <tbody>\n",
       "    <tr>\n",
       "      <th>0</th>\n",
       "      <td>1</td>\n",
       "      <td>0</td>\n",
       "      <td>3</td>\n",
       "      <td>Braund, Mr. Owen Harris</td>\n",
       "      <td>male</td>\n",
       "      <td>2.0</td>\n",
       "      <td>1</td>\n",
       "      <td>0</td>\n",
       "      <td>A/5 21171</td>\n",
       "      <td>7.2500</td>\n",
       "      <td>NaN</td>\n",
       "      <td>S</td>\n",
       "      <td>2</td>\n",
       "      <td>Small</td>\n",
       "      <td>(20.125, 24.0]</td>\n",
       "    </tr>\n",
       "    <tr>\n",
       "      <th>1</th>\n",
       "      <td>2</td>\n",
       "      <td>1</td>\n",
       "      <td>1</td>\n",
       "      <td>Cumings, Mrs. John Bradley (Florence Briggs Th...</td>\n",
       "      <td>female</td>\n",
       "      <td>5.0</td>\n",
       "      <td>1</td>\n",
       "      <td>0</td>\n",
       "      <td>PC 17599</td>\n",
       "      <td>71.2833</td>\n",
       "      <td>C85</td>\n",
       "      <td>C</td>\n",
       "      <td>2</td>\n",
       "      <td>Small</td>\n",
       "      <td>(32.312, 38.0]</td>\n",
       "    </tr>\n",
       "    <tr>\n",
       "      <th>2</th>\n",
       "      <td>3</td>\n",
       "      <td>1</td>\n",
       "      <td>3</td>\n",
       "      <td>Heikkinen, Miss. Laina</td>\n",
       "      <td>female</td>\n",
       "      <td>3.0</td>\n",
       "      <td>0</td>\n",
       "      <td>0</td>\n",
       "      <td>STON/O2. 3101282</td>\n",
       "      <td>7.9250</td>\n",
       "      <td>NaN</td>\n",
       "      <td>S</td>\n",
       "      <td>1</td>\n",
       "      <td>Alone</td>\n",
       "      <td>(24.0, 28.0]</td>\n",
       "    </tr>\n",
       "    <tr>\n",
       "      <th>3</th>\n",
       "      <td>4</td>\n",
       "      <td>1</td>\n",
       "      <td>1</td>\n",
       "      <td>Futrelle, Mrs. Jacques Heath (Lily May Peel)</td>\n",
       "      <td>female</td>\n",
       "      <td>5.0</td>\n",
       "      <td>1</td>\n",
       "      <td>0</td>\n",
       "      <td>113803</td>\n",
       "      <td>53.1000</td>\n",
       "      <td>C123</td>\n",
       "      <td>S</td>\n",
       "      <td>2</td>\n",
       "      <td>Small</td>\n",
       "      <td>(32.312, 38.0]</td>\n",
       "    </tr>\n",
       "    <tr>\n",
       "      <th>4</th>\n",
       "      <td>5</td>\n",
       "      <td>0</td>\n",
       "      <td>3</td>\n",
       "      <td>Allen, Mr. William Henry</td>\n",
       "      <td>male</td>\n",
       "      <td>5.0</td>\n",
       "      <td>0</td>\n",
       "      <td>0</td>\n",
       "      <td>373450</td>\n",
       "      <td>8.0500</td>\n",
       "      <td>NaN</td>\n",
       "      <td>S</td>\n",
       "      <td>1</td>\n",
       "      <td>Alone</td>\n",
       "      <td>(32.312, 38.0]</td>\n",
       "    </tr>\n",
       "  </tbody>\n",
       "</table>\n",
       "</div>"
      ],
      "text/plain": [
       "   PassengerId  Survived  Pclass  \\\n",
       "0            1         0       3   \n",
       "1            2         1       1   \n",
       "2            3         1       3   \n",
       "3            4         1       1   \n",
       "4            5         0       3   \n",
       "\n",
       "                                                Name     Sex  Age  SibSp  \\\n",
       "0                            Braund, Mr. Owen Harris    male  2.0      1   \n",
       "1  Cumings, Mrs. John Bradley (Florence Briggs Th...  female  5.0      1   \n",
       "2                             Heikkinen, Miss. Laina  female  3.0      0   \n",
       "3       Futrelle, Mrs. Jacques Heath (Lily May Peel)  female  5.0      1   \n",
       "4                           Allen, Mr. William Henry    male  5.0      0   \n",
       "\n",
       "   Parch            Ticket     Fare Cabin Embarked  family_size  \\\n",
       "0      0         A/5 21171   7.2500   NaN        S            2   \n",
       "1      0          PC 17599  71.2833   C85        C            2   \n",
       "2      0  STON/O2. 3101282   7.9250   NaN        S            1   \n",
       "3      0            113803  53.1000  C123        S            2   \n",
       "4      0            373450   8.0500   NaN        S            1   \n",
       "\n",
       "  family_size_grouped         age_cut  \n",
       "0               Small  (20.125, 24.0]  \n",
       "1               Small  (32.312, 38.0]  \n",
       "2               Alone    (24.0, 28.0]  \n",
       "3               Small  (32.312, 38.0]  \n",
       "4               Alone  (32.312, 38.0]  "
      ]
     },
     "execution_count": 21,
     "metadata": {},
     "output_type": "execute_result"
    }
   ],
   "source": [
    "train_df.head(5)"
   ]
  },
  {
   "cell_type": "code",
   "execution_count": 22,
   "id": "9336c7bf",
   "metadata": {
    "execution": {
     "iopub.execute_input": "2024-08-20T14:15:10.782750Z",
     "iopub.status.busy": "2024-08-20T14:15:10.782375Z",
     "iopub.status.idle": "2024-08-20T14:15:11.382484Z",
     "shell.execute_reply": "2024-08-20T14:15:11.381255Z"
    },
    "papermill": {
     "duration": 0.680347,
     "end_time": "2024-08-20T14:15:11.385105",
     "exception": false,
     "start_time": "2024-08-20T14:15:10.704758",
     "status": "completed"
    },
    "tags": []
   },
   "outputs": [
    {
     "name": "stderr",
     "output_type": "stream",
     "text": [
      "/opt/conda/lib/python3.10/site-packages/seaborn/_oldcore.py:1119: FutureWarning: use_inf_as_na option is deprecated and will be removed in a future version. Convert inf values to NaN before operating instead.\n",
      "  with pd.option_context('mode.use_inf_as_na', True):\n",
      "/opt/conda/lib/python3.10/site-packages/seaborn/_oldcore.py:1075: FutureWarning: When grouping with a length-1 list-like, you will need to pass a length-1 tuple to get_group in a future version of pandas. Pass `(name,)` instead of `name` to silence this warning.\n",
      "  data_subset = grouped_data.get_group(pd_key)\n",
      "/opt/conda/lib/python3.10/site-packages/seaborn/_oldcore.py:1075: FutureWarning: When grouping with a length-1 list-like, you will need to pass a length-1 tuple to get_group in a future version of pandas. Pass `(name,)` instead of `name` to silence this warning.\n",
      "  data_subset = grouped_data.get_group(pd_key)\n",
      "/opt/conda/lib/python3.10/site-packages/seaborn/_oldcore.py:1075: FutureWarning: When grouping with a length-1 list-like, you will need to pass a length-1 tuple to get_group in a future version of pandas. Pass `(name,)` instead of `name` to silence this warning.\n",
      "  data_subset = grouped_data.get_group(pd_key)\n"
     ]
    },
    {
     "data": {
      "image/png": "[encoded data removed]",
      "text/plain": [
       "<Figure size 1000x500 with 2 Axes>"
      ]
     },
     "metadata": {},
     "output_type": "display_data"
    }
   ],
   "source": [
    "# Fare x Survived\n",
    "g = sns.displot(train_df, x='Fare', col='Survived', binwidth=30, height=5)\n",
    "for ax in g.axes.flat:\n",
    "    ax.set_ylabel('')  \n",
    "    ax.set_yticks([]) \n",
    "    sns.despine(ax=ax, bottom=True, left=True)\n"
   ]
  },
  {
   "cell_type": "code",
   "execution_count": 23,
   "id": "7012be9c",
   "metadata": {
    "execution": {
     "iopub.execute_input": "2024-08-20T14:15:11.421687Z",
     "iopub.status.busy": "2024-08-20T14:15:11.421296Z",
     "iopub.status.idle": "2024-08-20T14:15:11.436318Z",
     "shell.execute_reply": "2024-08-20T14:15:11.435285Z"
    },
    "papermill": {
     "duration": 0.036444,
     "end_time": "2024-08-20T14:15:11.438836",
     "exception": false,
     "start_time": "2024-08-20T14:15:11.402392",
     "status": "completed"
    },
    "tags": []
   },
   "outputs": [],
   "source": [
    "# Create discrete bins of Fare\n",
    "train_df['fare_cut']=pd.qcut(train_df['Fare'], 6)\n",
    "test_df['fare_cut']=pd.qcut(test_df['Fare'], 6)"
   ]
  },
  {
   "cell_type": "code",
   "execution_count": 24,
   "id": "b0759154",
   "metadata": {
    "execution": {
     "iopub.execute_input": "2024-08-20T14:15:11.475669Z",
     "iopub.status.busy": "2024-08-20T14:15:11.475274Z",
     "iopub.status.idle": "2024-08-20T14:15:11.490400Z",
     "shell.execute_reply": "2024-08-20T14:15:11.489321Z"
    },
    "papermill": {
     "duration": 0.036184,
     "end_time": "2024-08-20T14:15:11.492882",
     "exception": false,
     "start_time": "2024-08-20T14:15:11.456698",
     "status": "completed"
    },
    "tags": []
   },
   "outputs": [
    {
     "data": {
      "text/html": [
       "<div>\n",
       "<style scoped>\n",
       "    .dataframe tbody tr th:only-of-type {\n",
       "        vertical-align: middle;\n",
       "    }\n",
       "\n",
       "    .dataframe tbody tr th {\n",
       "        vertical-align: top;\n",
       "    }\n",
       "\n",
       "    .dataframe thead th {\n",
       "        text-align: right;\n",
       "    }\n",
       "</style>\n",
       "<table border=\"1\" class=\"dataframe\">\n",
       "  <thead>\n",
       "    <tr style=\"text-align: right;\">\n",
       "      <th></th>\n",
       "      <th>fare_cut</th>\n",
       "      <th>Survived</th>\n",
       "    </tr>\n",
       "  </thead>\n",
       "  <tbody>\n",
       "    <tr>\n",
       "      <th>0</th>\n",
       "      <td>(-0.001, 7.775]</td>\n",
       "      <td>0.205128</td>\n",
       "    </tr>\n",
       "    <tr>\n",
       "      <th>1</th>\n",
       "      <td>(7.775, 8.662]</td>\n",
       "      <td>0.190789</td>\n",
       "    </tr>\n",
       "    <tr>\n",
       "      <th>2</th>\n",
       "      <td>(8.662, 14.454]</td>\n",
       "      <td>0.366906</td>\n",
       "    </tr>\n",
       "    <tr>\n",
       "      <th>3</th>\n",
       "      <td>(14.454, 26.0]</td>\n",
       "      <td>0.436242</td>\n",
       "    </tr>\n",
       "    <tr>\n",
       "      <th>4</th>\n",
       "      <td>(26.0, 52.369]</td>\n",
       "      <td>0.417808</td>\n",
       "    </tr>\n",
       "    <tr>\n",
       "      <th>5</th>\n",
       "      <td>(52.369, 512.329]</td>\n",
       "      <td>0.697987</td>\n",
       "    </tr>\n",
       "  </tbody>\n",
       "</table>\n",
       "</div>"
      ],
      "text/plain": [
       "            fare_cut  Survived\n",
       "0    (-0.001, 7.775]  0.205128\n",
       "1     (7.775, 8.662]  0.190789\n",
       "2    (8.662, 14.454]  0.366906\n",
       "3     (14.454, 26.0]  0.436242\n",
       "4     (26.0, 52.369]  0.417808\n",
       "5  (52.369, 512.329]  0.697987"
      ]
     },
     "execution_count": 24,
     "metadata": {},
     "output_type": "execute_result"
    }
   ],
   "source": [
    "train_df.groupby(['fare_cut'], as_index=False, observed=True)['Survived'].mean()"
   ]
  },
  {
   "cell_type": "code",
   "execution_count": 25,
   "id": "39640ea7",
   "metadata": {
    "execution": {
     "iopub.execute_input": "2024-08-20T14:15:11.529281Z",
     "iopub.status.busy": "2024-08-20T14:15:11.528864Z",
     "iopub.status.idle": "2024-08-20T14:15:11.555513Z",
     "shell.execute_reply": "2024-08-20T14:15:11.554202Z"
    },
    "papermill": {
     "duration": 0.048247,
     "end_time": "2024-08-20T14:15:11.558046",
     "exception": false,
     "start_time": "2024-08-20T14:15:11.509799",
     "status": "completed"
    },
    "tags": []
   },
   "outputs": [
    {
     "data": {
      "text/plain": [
       "343    512.3292\n",
       "Name: Fare, dtype: float64"
      ]
     },
     "execution_count": 25,
     "metadata": {},
     "output_type": "execute_result"
    }
   ],
   "source": [
    "#Reshaping the Fare variable as the min is -0.001 and the max is 512 (there \n",
    "# is a lot of data, so restructuring the variable based on the bins\n",
    "# might ease the modelling)\n",
    "\n",
    "train_df.loc[train_df['Fare']<=7.775, 'Fare']=0\n",
    "train_df.loc[(train_df['Fare']>7.775) & (train_df['Fare']<= 8.662), 'Fare']=1\n",
    "train_df.loc[(train_df['Fare']>8.662) & (train_df['Fare']<= 14.454), 'Fare']=2\n",
    "train_df.loc[(train_df['Fare']>14.454) & (train_df['Fare']<= 26.0), 'Fare']=3\n",
    "train_df.loc[(train_df['Fare']>26.0) & (train_df['Fare']<= 52.369), 'Fare']=4\n",
    "train_df.loc[(train_df['Fare']>52.369) & (train_df['Fare']<= 512.329), 'Fare']=5\n",
    "train_df.loc[train_df['Fare']>512.329, 'Fare']\n",
    "\n",
    "test_df.loc[test_df['Fare']<=7.775, 'Fare']=0\n",
    "test_df.loc[(test_df['Fare']>7.775) & (test_df['Fare']<= 8.662), 'Fare']=1\n",
    "test_df.loc[(test_df['Fare']>8.662) & (test_df['Fare']<= 14.454), 'Fare']=2\n",
    "test_df.loc[(test_df['Fare']>14.454) & (test_df['Fare']<= 26.0), 'Fare']=3\n",
    "test_df.loc[(test_df['Fare']>26.0) & (test_df['Fare']<= 52.369), 'Fare']=4\n",
    "test_df.loc[(test_df['Fare']>52.369) & (test_df['Fare']<= 512.329), 'Fare']=5\n",
    "test_df.loc[test_df['Fare']>512.329, 'Fare']\n"
   ]
  },
  {
   "cell_type": "code",
   "execution_count": 26,
   "id": "ff5df6ca",
   "metadata": {
    "execution": {
     "iopub.execute_input": "2024-08-20T14:15:11.595090Z",
     "iopub.status.busy": "2024-08-20T14:15:11.594711Z",
     "iopub.status.idle": "2024-08-20T14:15:11.615799Z",
     "shell.execute_reply": "2024-08-20T14:15:11.614574Z"
    },
    "papermill": {
     "duration": 0.042922,
     "end_time": "2024-08-20T14:15:11.618413",
     "exception": false,
     "start_time": "2024-08-20T14:15:11.575491",
     "status": "completed"
    },
    "tags": []
   },
   "outputs": [
    {
     "data": {
      "text/html": [
       "<div>\n",
       "<style scoped>\n",
       "    .dataframe tbody tr th:only-of-type {\n",
       "        vertical-align: middle;\n",
       "    }\n",
       "\n",
       "    .dataframe tbody tr th {\n",
       "        vertical-align: top;\n",
       "    }\n",
       "\n",
       "    .dataframe thead th {\n",
       "        text-align: right;\n",
       "    }\n",
       "</style>\n",
       "<table border=\"1\" class=\"dataframe\">\n",
       "  <thead>\n",
       "    <tr style=\"text-align: right;\">\n",
       "      <th></th>\n",
       "      <th>PassengerId</th>\n",
       "      <th>Survived</th>\n",
       "      <th>Pclass</th>\n",
       "      <th>Name</th>\n",
       "      <th>Sex</th>\n",
       "      <th>Age</th>\n",
       "      <th>SibSp</th>\n",
       "      <th>Parch</th>\n",
       "      <th>Ticket</th>\n",
       "      <th>Fare</th>\n",
       "      <th>Cabin</th>\n",
       "      <th>Embarked</th>\n",
       "      <th>family_size</th>\n",
       "      <th>family_size_grouped</th>\n",
       "      <th>age_cut</th>\n",
       "      <th>fare_cut</th>\n",
       "    </tr>\n",
       "  </thead>\n",
       "  <tbody>\n",
       "    <tr>\n",
       "      <th>0</th>\n",
       "      <td>1</td>\n",
       "      <td>0</td>\n",
       "      <td>3</td>\n",
       "      <td>Braund, Mr. Owen Harris</td>\n",
       "      <td>male</td>\n",
       "      <td>2.0</td>\n",
       "      <td>1</td>\n",
       "      <td>0</td>\n",
       "      <td>A/5 21171</td>\n",
       "      <td>0.0</td>\n",
       "      <td>NaN</td>\n",
       "      <td>S</td>\n",
       "      <td>2</td>\n",
       "      <td>Small</td>\n",
       "      <td>(20.125, 24.0]</td>\n",
       "      <td>(-0.001, 7.775]</td>\n",
       "    </tr>\n",
       "    <tr>\n",
       "      <th>1</th>\n",
       "      <td>2</td>\n",
       "      <td>1</td>\n",
       "      <td>1</td>\n",
       "      <td>Cumings, Mrs. John Bradley (Florence Briggs Th...</td>\n",
       "      <td>female</td>\n",
       "      <td>5.0</td>\n",
       "      <td>1</td>\n",
       "      <td>0</td>\n",
       "      <td>PC 17599</td>\n",
       "      <td>5.0</td>\n",
       "      <td>C85</td>\n",
       "      <td>C</td>\n",
       "      <td>2</td>\n",
       "      <td>Small</td>\n",
       "      <td>(32.312, 38.0]</td>\n",
       "      <td>(52.369, 512.329]</td>\n",
       "    </tr>\n",
       "    <tr>\n",
       "      <th>2</th>\n",
       "      <td>3</td>\n",
       "      <td>1</td>\n",
       "      <td>3</td>\n",
       "      <td>Heikkinen, Miss. Laina</td>\n",
       "      <td>female</td>\n",
       "      <td>3.0</td>\n",
       "      <td>0</td>\n",
       "      <td>0</td>\n",
       "      <td>STON/O2. 3101282</td>\n",
       "      <td>1.0</td>\n",
       "      <td>NaN</td>\n",
       "      <td>S</td>\n",
       "      <td>1</td>\n",
       "      <td>Alone</td>\n",
       "      <td>(24.0, 28.0]</td>\n",
       "      <td>(7.775, 8.662]</td>\n",
       "    </tr>\n",
       "    <tr>\n",
       "      <th>3</th>\n",
       "      <td>4</td>\n",
       "      <td>1</td>\n",
       "      <td>1</td>\n",
       "      <td>Futrelle, Mrs. Jacques Heath (Lily May Peel)</td>\n",
       "      <td>female</td>\n",
       "      <td>5.0</td>\n",
       "      <td>1</td>\n",
       "      <td>0</td>\n",
       "      <td>113803</td>\n",
       "      <td>5.0</td>\n",
       "      <td>C123</td>\n",
       "      <td>S</td>\n",
       "      <td>2</td>\n",
       "      <td>Small</td>\n",
       "      <td>(32.312, 38.0]</td>\n",
       "      <td>(52.369, 512.329]</td>\n",
       "    </tr>\n",
       "    <tr>\n",
       "      <th>4</th>\n",
       "      <td>5</td>\n",
       "      <td>0</td>\n",
       "      <td>3</td>\n",
       "      <td>Allen, Mr. William Henry</td>\n",
       "      <td>male</td>\n",
       "      <td>5.0</td>\n",
       "      <td>0</td>\n",
       "      <td>0</td>\n",
       "      <td>373450</td>\n",
       "      <td>1.0</td>\n",
       "      <td>NaN</td>\n",
       "      <td>S</td>\n",
       "      <td>1</td>\n",
       "      <td>Alone</td>\n",
       "      <td>(32.312, 38.0]</td>\n",
       "      <td>(7.775, 8.662]</td>\n",
       "    </tr>\n",
       "  </tbody>\n",
       "</table>\n",
       "</div>"
      ],
      "text/plain": [
       "   PassengerId  Survived  Pclass  \\\n",
       "0            1         0       3   \n",
       "1            2         1       1   \n",
       "2            3         1       3   \n",
       "3            4         1       1   \n",
       "4            5         0       3   \n",
       "\n",
       "                                                Name     Sex  Age  SibSp  \\\n",
       "0                            Braund, Mr. Owen Harris    male  2.0      1   \n",
       "1  Cumings, Mrs. John Bradley (Florence Briggs Th...  female  5.0      1   \n",
       "2                             Heikkinen, Miss. Laina  female  3.0      0   \n",
       "3       Futrelle, Mrs. Jacques Heath (Lily May Peel)  female  5.0      1   \n",
       "4                           Allen, Mr. William Henry    male  5.0      0   \n",
       "\n",
       "   Parch            Ticket  Fare Cabin Embarked  family_size  \\\n",
       "0      0         A/5 21171   0.0   NaN        S            2   \n",
       "1      0          PC 17599   5.0   C85        C            2   \n",
       "2      0  STON/O2. 3101282   1.0   NaN        S            1   \n",
       "3      0            113803   5.0  C123        S            2   \n",
       "4      0            373450   1.0   NaN        S            1   \n",
       "\n",
       "  family_size_grouped         age_cut           fare_cut  \n",
       "0               Small  (20.125, 24.0]    (-0.001, 7.775]  \n",
       "1               Small  (32.312, 38.0]  (52.369, 512.329]  \n",
       "2               Alone    (24.0, 28.0]     (7.775, 8.662]  \n",
       "3               Small  (32.312, 38.0]  (52.369, 512.329]  \n",
       "4               Alone  (32.312, 38.0]     (7.775, 8.662]  "
      ]
     },
     "execution_count": 26,
     "metadata": {},
     "output_type": "execute_result"
    }
   ],
   "source": [
    "train_df.head(5)"
   ]
  },
  {
   "cell_type": "code",
   "execution_count": 27,
   "id": "fdf336ee",
   "metadata": {
    "execution": {
     "iopub.execute_input": "2024-08-20T14:15:11.656171Z",
     "iopub.status.busy": "2024-08-20T14:15:11.655759Z",
     "iopub.status.idle": "2024-08-20T14:15:11.664793Z",
     "shell.execute_reply": "2024-08-20T14:15:11.663644Z"
    },
    "papermill": {
     "duration": 0.030423,
     "end_time": "2024-08-20T14:15:11.667155",
     "exception": false,
     "start_time": "2024-08-20T14:15:11.636732",
     "status": "completed"
    },
    "tags": []
   },
   "outputs": [
    {
     "data": {
      "text/plain": [
       "0                                Braund, Mr. Owen Harris\n",
       "1      Cumings, Mrs. John Bradley (Florence Briggs Th...\n",
       "2                                 Heikkinen, Miss. Laina\n",
       "3           Futrelle, Mrs. Jacques Heath (Lily May Peel)\n",
       "4                               Allen, Mr. William Henry\n",
       "                             ...                        \n",
       "886                                Montvila, Rev. Juozas\n",
       "887                         Graham, Miss. Margaret Edith\n",
       "888             Johnston, Miss. Catherine Helen \"Carrie\"\n",
       "889                                Behr, Mr. Karl Howell\n",
       "890                                  Dooley, Mr. Patrick\n",
       "Name: Name, Length: 891, dtype: object"
      ]
     },
     "execution_count": 27,
     "metadata": {},
     "output_type": "execute_result"
    }
   ],
   "source": [
    "train_df['Name']"
   ]
  },
  {
   "cell_type": "code",
   "execution_count": 28,
   "id": "c2747275",
   "metadata": {
    "execution": {
     "iopub.execute_input": "2024-08-20T14:15:11.706983Z",
     "iopub.status.busy": "2024-08-20T14:15:11.706132Z",
     "iopub.status.idle": "2024-08-20T14:15:11.722098Z",
     "shell.execute_reply": "2024-08-20T14:15:11.720680Z"
    },
    "papermill": {
     "duration": 0.038839,
     "end_time": "2024-08-20T14:15:11.724659",
     "exception": false,
     "start_time": "2024-08-20T14:15:11.685820",
     "status": "completed"
    },
    "tags": []
   },
   "outputs": [],
   "source": [
    "# Getting the title for each person from the name (string split)\n",
    "train_df['title']=train_df['Name'].str.split(pat=',', expand=True)[1].str.split(pat='.', expand=True)[0].apply(lambda x: x.strip())\n",
    "test_df['title']=test_df['Name'].str.split(pat=',', expand=True)[1].str.split(pat='.', expand=True)[0].apply(lambda x: x.strip())"
   ]
  },
  {
   "cell_type": "code",
   "execution_count": 29,
   "id": "a4365ced",
   "metadata": {
    "execution": {
     "iopub.execute_input": "2024-08-20T14:15:11.762913Z",
     "iopub.status.busy": "2024-08-20T14:15:11.762535Z",
     "iopub.status.idle": "2024-08-20T14:15:11.777578Z",
     "shell.execute_reply": "2024-08-20T14:15:11.776378Z"
    },
    "papermill": {
     "duration": 0.037375,
     "end_time": "2024-08-20T14:15:11.779930",
     "exception": false,
     "start_time": "2024-08-20T14:15:11.742555",
     "status": "completed"
    },
    "tags": []
   },
   "outputs": [
    {
     "data": {
      "text/html": [
       "<div>\n",
       "<style scoped>\n",
       "    .dataframe tbody tr th:only-of-type {\n",
       "        vertical-align: middle;\n",
       "    }\n",
       "\n",
       "    .dataframe tbody tr th {\n",
       "        vertical-align: top;\n",
       "    }\n",
       "\n",
       "    .dataframe thead th {\n",
       "        text-align: right;\n",
       "    }\n",
       "</style>\n",
       "<table border=\"1\" class=\"dataframe\">\n",
       "  <thead>\n",
       "    <tr style=\"text-align: right;\">\n",
       "      <th></th>\n",
       "      <th>title</th>\n",
       "      <th>Survived</th>\n",
       "    </tr>\n",
       "  </thead>\n",
       "  <tbody>\n",
       "    <tr>\n",
       "      <th>0</th>\n",
       "      <td>Capt</td>\n",
       "      <td>0.000000</td>\n",
       "    </tr>\n",
       "    <tr>\n",
       "      <th>1</th>\n",
       "      <td>Col</td>\n",
       "      <td>0.500000</td>\n",
       "    </tr>\n",
       "    <tr>\n",
       "      <th>2</th>\n",
       "      <td>Don</td>\n",
       "      <td>0.000000</td>\n",
       "    </tr>\n",
       "    <tr>\n",
       "      <th>3</th>\n",
       "      <td>Dr</td>\n",
       "      <td>0.428571</td>\n",
       "    </tr>\n",
       "    <tr>\n",
       "      <th>4</th>\n",
       "      <td>Jonkheer</td>\n",
       "      <td>0.000000</td>\n",
       "    </tr>\n",
       "    <tr>\n",
       "      <th>5</th>\n",
       "      <td>Lady</td>\n",
       "      <td>1.000000</td>\n",
       "    </tr>\n",
       "    <tr>\n",
       "      <th>6</th>\n",
       "      <td>Major</td>\n",
       "      <td>0.500000</td>\n",
       "    </tr>\n",
       "    <tr>\n",
       "      <th>7</th>\n",
       "      <td>Master</td>\n",
       "      <td>0.575000</td>\n",
       "    </tr>\n",
       "    <tr>\n",
       "      <th>8</th>\n",
       "      <td>Miss</td>\n",
       "      <td>0.697802</td>\n",
       "    </tr>\n",
       "    <tr>\n",
       "      <th>9</th>\n",
       "      <td>Mlle</td>\n",
       "      <td>1.000000</td>\n",
       "    </tr>\n",
       "    <tr>\n",
       "      <th>10</th>\n",
       "      <td>Mme</td>\n",
       "      <td>1.000000</td>\n",
       "    </tr>\n",
       "    <tr>\n",
       "      <th>11</th>\n",
       "      <td>Mr</td>\n",
       "      <td>0.156673</td>\n",
       "    </tr>\n",
       "    <tr>\n",
       "      <th>12</th>\n",
       "      <td>Mrs</td>\n",
       "      <td>0.792000</td>\n",
       "    </tr>\n",
       "    <tr>\n",
       "      <th>13</th>\n",
       "      <td>Ms</td>\n",
       "      <td>1.000000</td>\n",
       "    </tr>\n",
       "    <tr>\n",
       "      <th>14</th>\n",
       "      <td>Rev</td>\n",
       "      <td>0.000000</td>\n",
       "    </tr>\n",
       "    <tr>\n",
       "      <th>15</th>\n",
       "      <td>Sir</td>\n",
       "      <td>1.000000</td>\n",
       "    </tr>\n",
       "    <tr>\n",
       "      <th>16</th>\n",
       "      <td>the Countess</td>\n",
       "      <td>1.000000</td>\n",
       "    </tr>\n",
       "  </tbody>\n",
       "</table>\n",
       "</div>"
      ],
      "text/plain": [
       "           title  Survived\n",
       "0           Capt  0.000000\n",
       "1            Col  0.500000\n",
       "2            Don  0.000000\n",
       "3             Dr  0.428571\n",
       "4       Jonkheer  0.000000\n",
       "5           Lady  1.000000\n",
       "6          Major  0.500000\n",
       "7         Master  0.575000\n",
       "8           Miss  0.697802\n",
       "9           Mlle  1.000000\n",
       "10           Mme  1.000000\n",
       "11            Mr  0.156673\n",
       "12           Mrs  0.792000\n",
       "13            Ms  1.000000\n",
       "14           Rev  0.000000\n",
       "15           Sir  1.000000\n",
       "16  the Countess  1.000000"
      ]
     },
     "execution_count": 29,
     "metadata": {},
     "output_type": "execute_result"
    }
   ],
   "source": [
    "# Title x Survived\n",
    "train_df.groupby(['title'], as_index=False)['Survived'].mean()"
   ]
  },
  {
   "cell_type": "code",
   "execution_count": 30,
   "id": "35fd9994",
   "metadata": {
    "execution": {
     "iopub.execute_input": "2024-08-20T14:15:11.817936Z",
     "iopub.status.busy": "2024-08-20T14:15:11.817571Z",
     "iopub.status.idle": "2024-08-20T14:15:11.822465Z",
     "shell.execute_reply": "2024-08-20T14:15:11.821305Z"
    },
    "papermill": {
     "duration": 0.02644,
     "end_time": "2024-08-20T14:15:11.824916",
     "exception": false,
     "start_time": "2024-08-20T14:15:11.798476",
     "status": "completed"
    },
    "tags": []
   },
   "outputs": [],
   "source": [
    "# Military: Capt, Col, Major\n",
    "# Noble: Jonkheer, the Countess, Don, Lady, Sir\n",
    "# Unmaried Women: Mlle, Ms, Mmd"
   ]
  },
  {
   "cell_type": "code",
   "execution_count": 31,
   "id": "ac5c0c47",
   "metadata": {
    "execution": {
     "iopub.execute_input": "2024-08-20T14:15:11.862985Z",
     "iopub.status.busy": "2024-08-20T14:15:11.862153Z",
     "iopub.status.idle": "2024-08-20T14:15:11.872863Z",
     "shell.execute_reply": "2024-08-20T14:15:11.871797Z"
    },
    "papermill": {
     "duration": 0.032686,
     "end_time": "2024-08-20T14:15:11.875485",
     "exception": false,
     "start_time": "2024-08-20T14:15:11.842799",
     "status": "completed"
    },
    "tags": []
   },
   "outputs": [],
   "source": [
    "train_df['title']=train_df['title'].replace(\n",
    "{'Capt':'Military',\n",
    "'Col':'Military',\n",
    "'Major':'Military',\n",
    "'Jonkheer':'Noble',\n",
    "'the Countess': 'Noble', \n",
    "'Don':'Noble', \n",
    "'Lady':'Noble',\n",
    "'Sir':'Noble',\n",
    "'Mlle':'Noble',\n",
    "'Ms':'Noble', \n",
    "'Mme': 'Noble'}\n",
    ")\n",
    "\n",
    "test_df['title']=test_df['title'].replace(\n",
    "{'Capt':'Military',\n",
    "'Col':'Military',\n",
    "'Major':'Military',\n",
    "'Jonkheer':'Noble',\n",
    "'the Countess': 'Noble', \n",
    "'Don':'Noble', \n",
    "'Lady':'Noble',\n",
    "'Sir':'Noble',\n",
    "'Mlle':'Noble',\n",
    "'Ms':'Noble', \n",
    "'Mme': 'Noble'}\n",
    ")"
   ]
  },
  {
   "cell_type": "code",
   "execution_count": 32,
   "id": "c732a2b0",
   "metadata": {
    "execution": {
     "iopub.execute_input": "2024-08-20T14:15:11.913673Z",
     "iopub.status.busy": "2024-08-20T14:15:11.913285Z",
     "iopub.status.idle": "2024-08-20T14:15:11.926976Z",
     "shell.execute_reply": "2024-08-20T14:15:11.925913Z"
    },
    "papermill": {
     "duration": 0.03577,
     "end_time": "2024-08-20T14:15:11.929311",
     "exception": false,
     "start_time": "2024-08-20T14:15:11.893541",
     "status": "completed"
    },
    "tags": []
   },
   "outputs": [
    {
     "data": {
      "text/html": [
       "<div>\n",
       "<style scoped>\n",
       "    .dataframe tbody tr th:only-of-type {\n",
       "        vertical-align: middle;\n",
       "    }\n",
       "\n",
       "    .dataframe tbody tr th {\n",
       "        vertical-align: top;\n",
       "    }\n",
       "\n",
       "    .dataframe thead th {\n",
       "        text-align: right;\n",
       "    }\n",
       "</style>\n",
       "<table border=\"1\" class=\"dataframe\">\n",
       "  <thead>\n",
       "    <tr style=\"text-align: right;\">\n",
       "      <th></th>\n",
       "      <th>title</th>\n",
       "      <th>count</th>\n",
       "      <th>mean</th>\n",
       "    </tr>\n",
       "  </thead>\n",
       "  <tbody>\n",
       "    <tr>\n",
       "      <th>0</th>\n",
       "      <td>Dr</td>\n",
       "      <td>7</td>\n",
       "      <td>0.428571</td>\n",
       "    </tr>\n",
       "    <tr>\n",
       "      <th>1</th>\n",
       "      <td>Master</td>\n",
       "      <td>40</td>\n",
       "      <td>0.575000</td>\n",
       "    </tr>\n",
       "    <tr>\n",
       "      <th>2</th>\n",
       "      <td>Military</td>\n",
       "      <td>5</td>\n",
       "      <td>0.400000</td>\n",
       "    </tr>\n",
       "    <tr>\n",
       "      <th>3</th>\n",
       "      <td>Miss</td>\n",
       "      <td>182</td>\n",
       "      <td>0.697802</td>\n",
       "    </tr>\n",
       "    <tr>\n",
       "      <th>4</th>\n",
       "      <td>Mr</td>\n",
       "      <td>517</td>\n",
       "      <td>0.156673</td>\n",
       "    </tr>\n",
       "    <tr>\n",
       "      <th>5</th>\n",
       "      <td>Mrs</td>\n",
       "      <td>125</td>\n",
       "      <td>0.792000</td>\n",
       "    </tr>\n",
       "    <tr>\n",
       "      <th>6</th>\n",
       "      <td>Noble</td>\n",
       "      <td>9</td>\n",
       "      <td>0.777778</td>\n",
       "    </tr>\n",
       "    <tr>\n",
       "      <th>7</th>\n",
       "      <td>Rev</td>\n",
       "      <td>6</td>\n",
       "      <td>0.000000</td>\n",
       "    </tr>\n",
       "  </tbody>\n",
       "</table>\n",
       "</div>"
      ],
      "text/plain": [
       "      title  count      mean\n",
       "0        Dr      7  0.428571\n",
       "1    Master     40  0.575000\n",
       "2  Military      5  0.400000\n",
       "3      Miss    182  0.697802\n",
       "4        Mr    517  0.156673\n",
       "5       Mrs    125  0.792000\n",
       "6     Noble      9  0.777778\n",
       "7       Rev      6  0.000000"
      ]
     },
     "execution_count": 32,
     "metadata": {},
     "output_type": "execute_result"
    }
   ],
   "source": [
    "train_df.groupby(['title'], as_index=False)['Survived'].agg(['count', 'mean'])"
   ]
  },
  {
   "cell_type": "code",
   "execution_count": 33,
   "id": "147fcd0c",
   "metadata": {
    "execution": {
     "iopub.execute_input": "2024-08-20T14:15:11.966959Z",
     "iopub.status.busy": "2024-08-20T14:15:11.966538Z",
     "iopub.status.idle": "2024-08-20T14:15:11.975023Z",
     "shell.execute_reply": "2024-08-20T14:15:11.973655Z"
    },
    "papermill": {
     "duration": 0.030188,
     "end_time": "2024-08-20T14:15:11.977490",
     "exception": false,
     "start_time": "2024-08-20T14:15:11.947302",
     "status": "completed"
    },
    "tags": []
   },
   "outputs": [],
   "source": [
    "train_df['name_len'] = train_df['Name'].apply(lambda x: len(x))\n",
    "test_df['name_len'] = test_df['Name'].apply(lambda x: len(x))\n"
   ]
  },
  {
   "cell_type": "code",
   "execution_count": 34,
   "id": "d9ccd3d9",
   "metadata": {
    "execution": {
     "iopub.execute_input": "2024-08-20T14:15:12.015639Z",
     "iopub.status.busy": "2024-08-20T14:15:12.015202Z",
     "iopub.status.idle": "2024-08-20T14:15:12.389775Z",
     "shell.execute_reply": "2024-08-20T14:15:12.388613Z"
    },
    "papermill": {
     "duration": 0.396597,
     "end_time": "2024-08-20T14:15:12.392256",
     "exception": false,
     "start_time": "2024-08-20T14:15:11.995659",
     "status": "completed"
    },
    "tags": []
   },
   "outputs": [
    {
     "name": "stderr",
     "output_type": "stream",
     "text": [
      "/opt/conda/lib/python3.10/site-packages/seaborn/_oldcore.py:1119: FutureWarning: use_inf_as_na option is deprecated and will be removed in a future version. Convert inf values to NaN before operating instead.\n",
      "  with pd.option_context('mode.use_inf_as_na', True):\n",
      "/opt/conda/lib/python3.10/site-packages/seaborn/_oldcore.py:1119: FutureWarning: use_inf_as_na option is deprecated and will be removed in a future version. Convert inf values to NaN before operating instead.\n",
      "  with pd.option_context('mode.use_inf_as_na', True):\n"
     ]
    },
    {
     "data": {
      "image/png": "[encoded data removed]",
      "text/plain": [
       "<Figure size 640x480 with 1 Axes>"
      ]
     },
     "metadata": {},
     "output_type": "display_data"
    }
   ],
   "source": [
    "# Name Length x Survived\n",
    "\n",
    "g= sns.kdeplot(train_df['name_len'][(train_df['Survived']==0) & (train_df['name_len'].notnull())], color='Red', fill=True)\n",
    "g= sns.kdeplot(train_df['name_len'][(train_df['Survived']==1) & (train_df['name_len'].notnull())], ax=g, color='Blue', fill=True)\n",
    "g.set_xlabel('Name Length')\n",
    "g.set_ylabel('Frequency')\n",
    "g=g.legend(['Not survived', 'Survived'])"
   ]
  },
  {
   "cell_type": "code",
   "execution_count": 35,
   "id": "bab15ce3",
   "metadata": {
    "execution": {
     "iopub.execute_input": "2024-08-20T14:15:12.439151Z",
     "iopub.status.busy": "2024-08-20T14:15:12.436965Z",
     "iopub.status.idle": "2024-08-20T14:15:12.454937Z",
     "shell.execute_reply": "2024-08-20T14:15:12.453696Z"
    },
    "papermill": {
     "duration": 0.04752,
     "end_time": "2024-08-20T14:15:12.459265",
     "exception": false,
     "start_time": "2024-08-20T14:15:12.411745",
     "status": "completed"
    },
    "tags": []
   },
   "outputs": [],
   "source": [
    "# Create discrete bins of the name_len variable \n",
    "train_df['name_lenGB']=pd.qcut(train_df['name_len'], 8)\n",
    "test_df['name_lenGB']=pd.qcut(test_df['name_len'], 8)"
   ]
  },
  {
   "cell_type": "code",
   "execution_count": 36,
   "id": "8de7e35c",
   "metadata": {
    "execution": {
     "iopub.execute_input": "2024-08-20T14:15:12.512981Z",
     "iopub.status.busy": "2024-08-20T14:15:12.512566Z",
     "iopub.status.idle": "2024-08-20T14:15:12.529232Z",
     "shell.execute_reply": "2024-08-20T14:15:12.527907Z"
    },
    "papermill": {
     "duration": 0.045912,
     "end_time": "2024-08-20T14:15:12.531672",
     "exception": false,
     "start_time": "2024-08-20T14:15:12.485760",
     "status": "completed"
    },
    "tags": []
   },
   "outputs": [
    {
     "data": {
      "text/html": [
       "<div>\n",
       "<style scoped>\n",
       "    .dataframe tbody tr th:only-of-type {\n",
       "        vertical-align: middle;\n",
       "    }\n",
       "\n",
       "    .dataframe tbody tr th {\n",
       "        vertical-align: top;\n",
       "    }\n",
       "\n",
       "    .dataframe thead th {\n",
       "        text-align: right;\n",
       "    }\n",
       "</style>\n",
       "<table border=\"1\" class=\"dataframe\">\n",
       "  <thead>\n",
       "    <tr style=\"text-align: right;\">\n",
       "      <th></th>\n",
       "      <th>name_lenGB</th>\n",
       "      <th>Survived</th>\n",
       "    </tr>\n",
       "  </thead>\n",
       "  <tbody>\n",
       "    <tr>\n",
       "      <th>0</th>\n",
       "      <td>(11.999, 18.0]</td>\n",
       "      <td>0.214286</td>\n",
       "    </tr>\n",
       "    <tr>\n",
       "      <th>1</th>\n",
       "      <td>(18.0, 20.0]</td>\n",
       "      <td>0.252427</td>\n",
       "    </tr>\n",
       "    <tr>\n",
       "      <th>2</th>\n",
       "      <td>(20.0, 23.0]</td>\n",
       "      <td>0.307692</td>\n",
       "    </tr>\n",
       "    <tr>\n",
       "      <th>3</th>\n",
       "      <td>(23.0, 25.0]</td>\n",
       "      <td>0.346939</td>\n",
       "    </tr>\n",
       "    <tr>\n",
       "      <th>4</th>\n",
       "      <td>(25.0, 27.25]</td>\n",
       "      <td>0.292929</td>\n",
       "    </tr>\n",
       "    <tr>\n",
       "      <th>5</th>\n",
       "      <td>(27.25, 30.0]</td>\n",
       "      <td>0.428571</td>\n",
       "    </tr>\n",
       "    <tr>\n",
       "      <th>6</th>\n",
       "      <td>(30.0, 38.0]</td>\n",
       "      <td>0.517241</td>\n",
       "    </tr>\n",
       "    <tr>\n",
       "      <th>7</th>\n",
       "      <td>(38.0, 82.0]</td>\n",
       "      <td>0.745283</td>\n",
       "    </tr>\n",
       "  </tbody>\n",
       "</table>\n",
       "</div>"
      ],
      "text/plain": [
       "       name_lenGB  Survived\n",
       "0  (11.999, 18.0]  0.214286\n",
       "1    (18.0, 20.0]  0.252427\n",
       "2    (20.0, 23.0]  0.307692\n",
       "3    (23.0, 25.0]  0.346939\n",
       "4   (25.0, 27.25]  0.292929\n",
       "5   (27.25, 30.0]  0.428571\n",
       "6    (30.0, 38.0]  0.517241\n",
       "7    (38.0, 82.0]  0.745283"
      ]
     },
     "execution_count": 36,
     "metadata": {},
     "output_type": "execute_result"
    }
   ],
   "source": [
    "train_df.groupby(['name_lenGB'], as_index=False, observed=True)['Survived'].mean()"
   ]
  },
  {
   "cell_type": "code",
   "execution_count": 37,
   "id": "55fcae79",
   "metadata": {
    "execution": {
     "iopub.execute_input": "2024-08-20T14:15:12.571893Z",
     "iopub.status.busy": "2024-08-20T14:15:12.571517Z",
     "iopub.status.idle": "2024-08-20T14:15:12.606408Z",
     "shell.execute_reply": "2024-08-20T14:15:12.604937Z"
    },
    "papermill": {
     "duration": 0.05913,
     "end_time": "2024-08-20T14:15:12.610638",
     "exception": false,
     "start_time": "2024-08-20T14:15:12.551508",
     "status": "completed"
    },
    "tags": []
   },
   "outputs": [
    {
     "data": {
      "text/plain": [
       "Series([], Name: name_size, dtype: float64)"
      ]
     },
     "execution_count": 37,
     "metadata": {},
     "output_type": "execute_result"
    }
   ],
   "source": [
    "#Reshaping the name_len variable as the min is 11.999 and the max is 82 (there \n",
    "# is a lot of data, so restructuring the variable based on the bins\n",
    "# might ease the modelling)\n",
    "\n",
    "train_df.loc[train_df['name_len']<=18.0, 'name_size']=0\n",
    "train_df.loc[(train_df['name_len']>18.0) & (train_df['name_len']<= 20.0), 'name_size']=1\n",
    "train_df.loc[(train_df['name_len']>20.0) & (train_df['name_len']<= 23.0), 'name_size']=2\n",
    "train_df.loc[(train_df['name_len']>23.0) & (train_df['name_len']<= 25.0), 'name_size']=3\n",
    "train_df.loc[(train_df['name_len']>25.0) & (train_df['name_len']<= 27.25), 'name_size']=4\n",
    "train_df.loc[(train_df['name_len']>27.25) & (train_df['name_len']<= 30.0), 'name_size']=5\n",
    "train_df.loc[(train_df['name_len']>30.0) & (train_df['name_len']<= 82.0), 'name_size']=6\n",
    "train_df.loc[(train_df['name_len']>38.0) & (train_df['name_len']<= 30.0), 'name_size']=7\n",
    "train_df.loc[train_df['name_len']>82.0, 'name_size']\n",
    "\n",
    "test_df.loc[test_df['name_len']<=18.0, 'name_size']=0\n",
    "test_df.loc[(test_df['name_len']>18.0) & (test_df['name_len']<= 20.0), 'name_size']=1\n",
    "test_df.loc[(test_df['name_len']>20.0) & (test_df['name_len']<= 23.0), 'name_size']=2\n",
    "test_df.loc[(test_df['name_len']>23.0) & (test_df['name_len']<= 25.0), 'name_size']=3\n",
    "test_df.loc[(test_df['name_len']>25.0) & (test_df['name_len']<= 27.25), 'name_size']=4\n",
    "test_df.loc[(test_df['name_len']>27.25) & (test_df['name_len']<= 30.0), 'name_size']=5\n",
    "test_df.loc[(test_df['name_len']>30.0) & (test_df['name_len']<= 82.0), 'name_size']=6\n",
    "test_df.loc[(test_df['name_len']>38.0) & (test_df['name_len']<= 30.0), 'name_size']=7\n",
    "test_df.loc[test_df['name_len']>82.0, 'name_size']\n"
   ]
  },
  {
   "cell_type": "code",
   "execution_count": 38,
   "id": "ed4a9aef",
   "metadata": {
    "execution": {
     "iopub.execute_input": "2024-08-20T14:15:12.668014Z",
     "iopub.status.busy": "2024-08-20T14:15:12.667611Z",
     "iopub.status.idle": "2024-08-20T14:15:12.692626Z",
     "shell.execute_reply": "2024-08-20T14:15:12.691494Z"
    },
    "papermill": {
     "duration": 0.05719,
     "end_time": "2024-08-20T14:15:12.695651",
     "exception": false,
     "start_time": "2024-08-20T14:15:12.638461",
     "status": "completed"
    },
    "tags": []
   },
   "outputs": [
    {
     "data": {
      "text/html": [
       "<div>\n",
       "<style scoped>\n",
       "    .dataframe tbody tr th:only-of-type {\n",
       "        vertical-align: middle;\n",
       "    }\n",
       "\n",
       "    .dataframe tbody tr th {\n",
       "        vertical-align: top;\n",
       "    }\n",
       "\n",
       "    .dataframe thead th {\n",
       "        text-align: right;\n",
       "    }\n",
       "</style>\n",
       "<table border=\"1\" class=\"dataframe\">\n",
       "  <thead>\n",
       "    <tr style=\"text-align: right;\">\n",
       "      <th></th>\n",
       "      <th>PassengerId</th>\n",
       "      <th>Survived</th>\n",
       "      <th>Pclass</th>\n",
       "      <th>Name</th>\n",
       "      <th>Sex</th>\n",
       "      <th>Age</th>\n",
       "      <th>SibSp</th>\n",
       "      <th>Parch</th>\n",
       "      <th>Ticket</th>\n",
       "      <th>Fare</th>\n",
       "      <th>Cabin</th>\n",
       "      <th>Embarked</th>\n",
       "      <th>family_size</th>\n",
       "      <th>family_size_grouped</th>\n",
       "      <th>age_cut</th>\n",
       "      <th>fare_cut</th>\n",
       "      <th>title</th>\n",
       "      <th>name_len</th>\n",
       "      <th>name_lenGB</th>\n",
       "      <th>name_size</th>\n",
       "    </tr>\n",
       "  </thead>\n",
       "  <tbody>\n",
       "    <tr>\n",
       "      <th>0</th>\n",
       "      <td>1</td>\n",
       "      <td>0</td>\n",
       "      <td>3</td>\n",
       "      <td>Braund, Mr. Owen Harris</td>\n",
       "      <td>male</td>\n",
       "      <td>2.0</td>\n",
       "      <td>1</td>\n",
       "      <td>0</td>\n",
       "      <td>A/5 21171</td>\n",
       "      <td>0.0</td>\n",
       "      <td>NaN</td>\n",
       "      <td>S</td>\n",
       "      <td>2</td>\n",
       "      <td>Small</td>\n",
       "      <td>(20.125, 24.0]</td>\n",
       "      <td>(-0.001, 7.775]</td>\n",
       "      <td>Mr</td>\n",
       "      <td>23</td>\n",
       "      <td>(20.0, 23.0]</td>\n",
       "      <td>2.0</td>\n",
       "    </tr>\n",
       "    <tr>\n",
       "      <th>1</th>\n",
       "      <td>2</td>\n",
       "      <td>1</td>\n",
       "      <td>1</td>\n",
       "      <td>Cumings, Mrs. John Bradley (Florence Briggs Th...</td>\n",
       "      <td>female</td>\n",
       "      <td>5.0</td>\n",
       "      <td>1</td>\n",
       "      <td>0</td>\n",
       "      <td>PC 17599</td>\n",
       "      <td>5.0</td>\n",
       "      <td>C85</td>\n",
       "      <td>C</td>\n",
       "      <td>2</td>\n",
       "      <td>Small</td>\n",
       "      <td>(32.312, 38.0]</td>\n",
       "      <td>(52.369, 512.329]</td>\n",
       "      <td>Mrs</td>\n",
       "      <td>51</td>\n",
       "      <td>(38.0, 82.0]</td>\n",
       "      <td>6.0</td>\n",
       "    </tr>\n",
       "    <tr>\n",
       "      <th>2</th>\n",
       "      <td>3</td>\n",
       "      <td>1</td>\n",
       "      <td>3</td>\n",
       "      <td>Heikkinen, Miss. Laina</td>\n",
       "      <td>female</td>\n",
       "      <td>3.0</td>\n",
       "      <td>0</td>\n",
       "      <td>0</td>\n",
       "      <td>STON/O2. 3101282</td>\n",
       "      <td>1.0</td>\n",
       "      <td>NaN</td>\n",
       "      <td>S</td>\n",
       "      <td>1</td>\n",
       "      <td>Alone</td>\n",
       "      <td>(24.0, 28.0]</td>\n",
       "      <td>(7.775, 8.662]</td>\n",
       "      <td>Miss</td>\n",
       "      <td>22</td>\n",
       "      <td>(20.0, 23.0]</td>\n",
       "      <td>2.0</td>\n",
       "    </tr>\n",
       "    <tr>\n",
       "      <th>3</th>\n",
       "      <td>4</td>\n",
       "      <td>1</td>\n",
       "      <td>1</td>\n",
       "      <td>Futrelle, Mrs. Jacques Heath (Lily May Peel)</td>\n",
       "      <td>female</td>\n",
       "      <td>5.0</td>\n",
       "      <td>1</td>\n",
       "      <td>0</td>\n",
       "      <td>113803</td>\n",
       "      <td>5.0</td>\n",
       "      <td>C123</td>\n",
       "      <td>S</td>\n",
       "      <td>2</td>\n",
       "      <td>Small</td>\n",
       "      <td>(32.312, 38.0]</td>\n",
       "      <td>(52.369, 512.329]</td>\n",
       "      <td>Mrs</td>\n",
       "      <td>44</td>\n",
       "      <td>(38.0, 82.0]</td>\n",
       "      <td>6.0</td>\n",
       "    </tr>\n",
       "    <tr>\n",
       "      <th>4</th>\n",
       "      <td>5</td>\n",
       "      <td>0</td>\n",
       "      <td>3</td>\n",
       "      <td>Allen, Mr. William Henry</td>\n",
       "      <td>male</td>\n",
       "      <td>5.0</td>\n",
       "      <td>0</td>\n",
       "      <td>0</td>\n",
       "      <td>373450</td>\n",
       "      <td>1.0</td>\n",
       "      <td>NaN</td>\n",
       "      <td>S</td>\n",
       "      <td>1</td>\n",
       "      <td>Alone</td>\n",
       "      <td>(32.312, 38.0]</td>\n",
       "      <td>(7.775, 8.662]</td>\n",
       "      <td>Mr</td>\n",
       "      <td>24</td>\n",
       "      <td>(23.0, 25.0]</td>\n",
       "      <td>3.0</td>\n",
       "    </tr>\n",
       "  </tbody>\n",
       "</table>\n",
       "</div>"
      ],
      "text/plain": [
       "   PassengerId  Survived  Pclass  \\\n",
       "0            1         0       3   \n",
       "1            2         1       1   \n",
       "2            3         1       3   \n",
       "3            4         1       1   \n",
       "4            5         0       3   \n",
       "\n",
       "                                                Name     Sex  Age  SibSp  \\\n",
       "0                            Braund, Mr. Owen Harris    male  2.0      1   \n",
       "1  Cumings, Mrs. John Bradley (Florence Briggs Th...  female  5.0      1   \n",
       "2                             Heikkinen, Miss. Laina  female  3.0      0   \n",
       "3       Futrelle, Mrs. Jacques Heath (Lily May Peel)  female  5.0      1   \n",
       "4                           Allen, Mr. William Henry    male  5.0      0   \n",
       "\n",
       "   Parch            Ticket  Fare Cabin Embarked  family_size  \\\n",
       "0      0         A/5 21171   0.0   NaN        S            2   \n",
       "1      0          PC 17599   5.0   C85        C            2   \n",
       "2      0  STON/O2. 3101282   1.0   NaN        S            1   \n",
       "3      0            113803   5.0  C123        S            2   \n",
       "4      0            373450   1.0   NaN        S            1   \n",
       "\n",
       "  family_size_grouped         age_cut           fare_cut title  name_len  \\\n",
       "0               Small  (20.125, 24.0]    (-0.001, 7.775]    Mr        23   \n",
       "1               Small  (32.312, 38.0]  (52.369, 512.329]   Mrs        51   \n",
       "2               Alone    (24.0, 28.0]     (7.775, 8.662]  Miss        22   \n",
       "3               Small  (32.312, 38.0]  (52.369, 512.329]   Mrs        44   \n",
       "4               Alone  (32.312, 38.0]     (7.775, 8.662]    Mr        24   \n",
       "\n",
       "     name_lenGB  name_size  \n",
       "0  (20.0, 23.0]        2.0  \n",
       "1  (38.0, 82.0]        6.0  \n",
       "2  (20.0, 23.0]        2.0  \n",
       "3  (38.0, 82.0]        6.0  \n",
       "4  (23.0, 25.0]        3.0  "
      ]
     },
     "execution_count": 38,
     "metadata": {},
     "output_type": "execute_result"
    }
   ],
   "source": [
    "train_df.head()"
   ]
  },
  {
   "cell_type": "code",
   "execution_count": 39,
   "id": "db9a5326",
   "metadata": {
    "execution": {
     "iopub.execute_input": "2024-08-20T14:15:12.738610Z",
     "iopub.status.busy": "2024-08-20T14:15:12.738183Z",
     "iopub.status.idle": "2024-08-20T14:15:12.746907Z",
     "shell.execute_reply": "2024-08-20T14:15:12.745682Z"
    },
    "papermill": {
     "duration": 0.032809,
     "end_time": "2024-08-20T14:15:12.749429",
     "exception": false,
     "start_time": "2024-08-20T14:15:12.716620",
     "status": "completed"
    },
    "tags": []
   },
   "outputs": [
    {
     "data": {
      "text/plain": [
       "0             A/5 21171\n",
       "1              PC 17599\n",
       "2      STON/O2. 3101282\n",
       "3                113803\n",
       "4                373450\n",
       "             ...       \n",
       "886              211536\n",
       "887              112053\n",
       "888          W./C. 6607\n",
       "889              111369\n",
       "890              370376\n",
       "Name: Ticket, Length: 891, dtype: object"
      ]
     },
     "execution_count": 39,
     "metadata": {},
     "output_type": "execute_result"
    }
   ],
   "source": [
    "train_df['Ticket']"
   ]
  },
  {
   "cell_type": "code",
   "execution_count": 40,
   "id": "890b9e8c",
   "metadata": {
    "execution": {
     "iopub.execute_input": "2024-08-20T14:15:12.789950Z",
     "iopub.status.busy": "2024-08-20T14:15:12.789549Z",
     "iopub.status.idle": "2024-08-20T14:15:13.070314Z",
     "shell.execute_reply": "2024-08-20T14:15:13.069024Z"
    },
    "papermill": {
     "duration": 0.304143,
     "end_time": "2024-08-20T14:15:13.073075",
     "exception": false,
     "start_time": "2024-08-20T14:15:12.768932",
     "status": "completed"
    },
    "tags": []
   },
   "outputs": [],
   "source": [
    "train_df['ticket_number']=train_df['Ticket'].apply(lambda x: pd.Series({'Ticket': x.split()[-1]}))\n",
    "test_df['ticket_number']=test_df['Ticket'].apply(lambda x: pd.Series({'Ticket': x.split()[-1]}))"
   ]
  },
  {
   "cell_type": "code",
   "execution_count": 41,
   "id": "221fd9d8",
   "metadata": {
    "execution": {
     "iopub.execute_input": "2024-08-20T14:15:13.113938Z",
     "iopub.status.busy": "2024-08-20T14:15:13.113549Z",
     "iopub.status.idle": "2024-08-20T14:15:13.131373Z",
     "shell.execute_reply": "2024-08-20T14:15:13.130279Z"
    },
    "papermill": {
     "duration": 0.041146,
     "end_time": "2024-08-20T14:15:13.133833",
     "exception": false,
     "start_time": "2024-08-20T14:15:13.092687",
     "status": "completed"
    },
    "tags": []
   },
   "outputs": [
    {
     "data": {
      "text/html": [
       "<div>\n",
       "<style scoped>\n",
       "    .dataframe tbody tr th:only-of-type {\n",
       "        vertical-align: middle;\n",
       "    }\n",
       "\n",
       "    .dataframe tbody tr th {\n",
       "        vertical-align: top;\n",
       "    }\n",
       "\n",
       "    .dataframe thead th {\n",
       "        text-align: right;\n",
       "    }\n",
       "</style>\n",
       "<table border=\"1\" class=\"dataframe\">\n",
       "  <thead>\n",
       "    <tr style=\"text-align: right;\">\n",
       "      <th></th>\n",
       "      <th>ticket_number</th>\n",
       "      <th>count</th>\n",
       "      <th>mean</th>\n",
       "    </tr>\n",
       "  </thead>\n",
       "  <tbody>\n",
       "    <tr>\n",
       "      <th>464</th>\n",
       "      <td>347082</td>\n",
       "      <td>7</td>\n",
       "      <td>0.000000</td>\n",
       "    </tr>\n",
       "    <tr>\n",
       "      <th>196</th>\n",
       "      <td>2343</td>\n",
       "      <td>7</td>\n",
       "      <td>0.000000</td>\n",
       "    </tr>\n",
       "    <tr>\n",
       "      <th>94</th>\n",
       "      <td>1601</td>\n",
       "      <td>7</td>\n",
       "      <td>0.714286</td>\n",
       "    </tr>\n",
       "    <tr>\n",
       "      <th>168</th>\n",
       "      <td>2144</td>\n",
       "      <td>6</td>\n",
       "      <td>0.000000</td>\n",
       "    </tr>\n",
       "    <tr>\n",
       "      <th>468</th>\n",
       "      <td>347088</td>\n",
       "      <td>6</td>\n",
       "      <td>0.000000</td>\n",
       "    </tr>\n",
       "    <tr>\n",
       "      <th>...</th>\n",
       "      <td>...</td>\n",
       "      <td>...</td>\n",
       "      <td>...</td>\n",
       "    </tr>\n",
       "    <tr>\n",
       "      <th>271</th>\n",
       "      <td>2662</td>\n",
       "      <td>1</td>\n",
       "      <td>0.000000</td>\n",
       "    </tr>\n",
       "    <tr>\n",
       "      <th>272</th>\n",
       "      <td>2663</td>\n",
       "      <td>1</td>\n",
       "      <td>1.000000</td>\n",
       "    </tr>\n",
       "    <tr>\n",
       "      <th>273</th>\n",
       "      <td>2664</td>\n",
       "      <td>1</td>\n",
       "      <td>0.000000</td>\n",
       "    </tr>\n",
       "    <tr>\n",
       "      <th>276</th>\n",
       "      <td>2667</td>\n",
       "      <td>1</td>\n",
       "      <td>1.000000</td>\n",
       "    </tr>\n",
       "    <tr>\n",
       "      <th>339</th>\n",
       "      <td>3101274</td>\n",
       "      <td>1</td>\n",
       "      <td>0.000000</td>\n",
       "    </tr>\n",
       "  </tbody>\n",
       "</table>\n",
       "<p>679 rows × 3 columns</p>\n",
       "</div>"
      ],
      "text/plain": [
       "    ticket_number  count      mean\n",
       "464        347082      7  0.000000\n",
       "196          2343      7  0.000000\n",
       "94           1601      7  0.714286\n",
       "168          2144      6  0.000000\n",
       "468        347088      6  0.000000\n",
       "..            ...    ...       ...\n",
       "271          2662      1  0.000000\n",
       "272          2663      1  1.000000\n",
       "273          2664      1  0.000000\n",
       "276          2667      1  1.000000\n",
       "339       3101274      1  0.000000\n",
       "\n",
       "[679 rows x 3 columns]"
      ]
     },
     "execution_count": 41,
     "metadata": {},
     "output_type": "execute_result"
    }
   ],
   "source": [
    "# Ticket Number x Survival\n",
    "train_df.groupby(['ticket_number'], as_index=False, observed=True)['Survived'].agg(['count', 'mean']).sort_values('count', ascending=False)"
   ]
  },
  {
   "cell_type": "code",
   "execution_count": 42,
   "id": "f2fc1393",
   "metadata": {
    "execution": {
     "iopub.execute_input": "2024-08-20T14:15:13.175947Z",
     "iopub.status.busy": "2024-08-20T14:15:13.175037Z",
     "iopub.status.idle": "2024-08-20T14:15:13.187241Z",
     "shell.execute_reply": "2024-08-20T14:15:13.185848Z"
    },
    "papermill": {
     "duration": 0.036741,
     "end_time": "2024-08-20T14:15:13.190376",
     "exception": false,
     "start_time": "2024-08-20T14:15:13.153635",
     "status": "completed"
    },
    "tags": []
   },
   "outputs": [
    {
     "data": {
      "text/plain": [
       "0      1\n",
       "1      1\n",
       "2      1\n",
       "3      2\n",
       "4      1\n",
       "      ..\n",
       "886    1\n",
       "887    1\n",
       "888    2\n",
       "889    1\n",
       "890    1\n",
       "Name: ticket_number, Length: 891, dtype: int64"
      ]
     },
     "execution_count": 42,
     "metadata": {},
     "output_type": "execute_result"
    }
   ],
   "source": [
    "# how common a ticket is? \n",
    "train_df.groupby('ticket_number')['ticket_number'].transform('count')"
   ]
  },
  {
   "cell_type": "code",
   "execution_count": 43,
   "id": "f0e8b446",
   "metadata": {
    "execution": {
     "iopub.execute_input": "2024-08-20T14:15:13.234183Z",
     "iopub.status.busy": "2024-08-20T14:15:13.233785Z",
     "iopub.status.idle": "2024-08-20T14:15:13.244753Z",
     "shell.execute_reply": "2024-08-20T14:15:13.243483Z"
    },
    "papermill": {
     "duration": 0.035583,
     "end_time": "2024-08-20T14:15:13.247492",
     "exception": false,
     "start_time": "2024-08-20T14:15:13.211909",
     "status": "completed"
    },
    "tags": []
   },
   "outputs": [],
   "source": [
    "train_df['ticket_number_counts'] = train_df.groupby('ticket_number')['ticket_number'].transform('count')\n",
    "test_df['ticket_number_counts'] = test_df.groupby('ticket_number')['ticket_number'].transform('count')"
   ]
  },
  {
   "cell_type": "code",
   "execution_count": 44,
   "id": "61934473",
   "metadata": {
    "execution": {
     "iopub.execute_input": "2024-08-20T14:15:13.290419Z",
     "iopub.status.busy": "2024-08-20T14:15:13.289147Z",
     "iopub.status.idle": "2024-08-20T14:15:13.304366Z",
     "shell.execute_reply": "2024-08-20T14:15:13.303275Z"
    },
    "papermill": {
     "duration": 0.039115,
     "end_time": "2024-08-20T14:15:13.306943",
     "exception": false,
     "start_time": "2024-08-20T14:15:13.267828",
     "status": "completed"
    },
    "tags": []
   },
   "outputs": [
    {
     "data": {
      "text/html": [
       "<div>\n",
       "<style scoped>\n",
       "    .dataframe tbody tr th:only-of-type {\n",
       "        vertical-align: middle;\n",
       "    }\n",
       "\n",
       "    .dataframe tbody tr th {\n",
       "        vertical-align: top;\n",
       "    }\n",
       "\n",
       "    .dataframe thead th {\n",
       "        text-align: right;\n",
       "    }\n",
       "</style>\n",
       "<table border=\"1\" class=\"dataframe\">\n",
       "  <thead>\n",
       "    <tr style=\"text-align: right;\">\n",
       "      <th></th>\n",
       "      <th>ticket_number_counts</th>\n",
       "      <th>count</th>\n",
       "      <th>mean</th>\n",
       "    </tr>\n",
       "  </thead>\n",
       "  <tbody>\n",
       "    <tr>\n",
       "      <th>0</th>\n",
       "      <td>1</td>\n",
       "      <td>544</td>\n",
       "      <td>0.295956</td>\n",
       "    </tr>\n",
       "    <tr>\n",
       "      <th>1</th>\n",
       "      <td>2</td>\n",
       "      <td>188</td>\n",
       "      <td>0.569149</td>\n",
       "    </tr>\n",
       "    <tr>\n",
       "      <th>2</th>\n",
       "      <td>3</td>\n",
       "      <td>66</td>\n",
       "      <td>0.712121</td>\n",
       "    </tr>\n",
       "    <tr>\n",
       "      <th>3</th>\n",
       "      <td>4</td>\n",
       "      <td>44</td>\n",
       "      <td>0.500000</td>\n",
       "    </tr>\n",
       "    <tr>\n",
       "      <th>6</th>\n",
       "      <td>7</td>\n",
       "      <td>21</td>\n",
       "      <td>0.238095</td>\n",
       "    </tr>\n",
       "    <tr>\n",
       "      <th>5</th>\n",
       "      <td>6</td>\n",
       "      <td>18</td>\n",
       "      <td>0.000000</td>\n",
       "    </tr>\n",
       "    <tr>\n",
       "      <th>4</th>\n",
       "      <td>5</td>\n",
       "      <td>10</td>\n",
       "      <td>0.000000</td>\n",
       "    </tr>\n",
       "  </tbody>\n",
       "</table>\n",
       "</div>"
      ],
      "text/plain": [
       "   ticket_number_counts  count      mean\n",
       "0                     1    544  0.295956\n",
       "1                     2    188  0.569149\n",
       "2                     3     66  0.712121\n",
       "3                     4     44  0.500000\n",
       "6                     7     21  0.238095\n",
       "5                     6     18  0.000000\n",
       "4                     5     10  0.000000"
      ]
     },
     "execution_count": 44,
     "metadata": {},
     "output_type": "execute_result"
    }
   ],
   "source": [
    "# Ticket_number_counts x Survived\n",
    "train_df.groupby(['ticket_number_counts'], as_index=False, observed=True)['Survived'].agg(['count', 'mean']).sort_values('count', ascending=False)"
   ]
  },
  {
   "cell_type": "code",
   "execution_count": 45,
   "id": "047a101e",
   "metadata": {
    "execution": {
     "iopub.execute_input": "2024-08-20T14:15:13.352388Z",
     "iopub.status.busy": "2024-08-20T14:15:13.351959Z",
     "iopub.status.idle": "2024-08-20T14:15:13.366488Z",
     "shell.execute_reply": "2024-08-20T14:15:13.365302Z"
    },
    "papermill": {
     "duration": 0.041493,
     "end_time": "2024-08-20T14:15:13.368831",
     "exception": false,
     "start_time": "2024-08-20T14:15:13.327338",
     "status": "completed"
    },
    "tags": []
   },
   "outputs": [
    {
     "data": {
      "text/html": [
       "<div>\n",
       "<style scoped>\n",
       "    .dataframe tbody tr th:only-of-type {\n",
       "        vertical-align: middle;\n",
       "    }\n",
       "\n",
       "    .dataframe tbody tr th {\n",
       "        vertical-align: top;\n",
       "    }\n",
       "\n",
       "    .dataframe thead th {\n",
       "        text-align: right;\n",
       "    }\n",
       "</style>\n",
       "<table border=\"1\" class=\"dataframe\">\n",
       "  <thead>\n",
       "    <tr style=\"text-align: right;\">\n",
       "      <th></th>\n",
       "      <th>0</th>\n",
       "      <th>1</th>\n",
       "      <th>2</th>\n",
       "    </tr>\n",
       "  </thead>\n",
       "  <tbody>\n",
       "    <tr>\n",
       "      <th>0</th>\n",
       "      <td>A/5</td>\n",
       "      <td>21171</td>\n",
       "      <td>None</td>\n",
       "    </tr>\n",
       "    <tr>\n",
       "      <th>1</th>\n",
       "      <td>PC</td>\n",
       "      <td>17599</td>\n",
       "      <td>None</td>\n",
       "    </tr>\n",
       "    <tr>\n",
       "      <th>2</th>\n",
       "      <td>STON/O2.</td>\n",
       "      <td>3101282</td>\n",
       "      <td>None</td>\n",
       "    </tr>\n",
       "    <tr>\n",
       "      <th>3</th>\n",
       "      <td>113803</td>\n",
       "      <td>None</td>\n",
       "      <td>None</td>\n",
       "    </tr>\n",
       "    <tr>\n",
       "      <th>4</th>\n",
       "      <td>373450</td>\n",
       "      <td>None</td>\n",
       "      <td>None</td>\n",
       "    </tr>\n",
       "    <tr>\n",
       "      <th>...</th>\n",
       "      <td>...</td>\n",
       "      <td>...</td>\n",
       "      <td>...</td>\n",
       "    </tr>\n",
       "    <tr>\n",
       "      <th>886</th>\n",
       "      <td>211536</td>\n",
       "      <td>None</td>\n",
       "      <td>None</td>\n",
       "    </tr>\n",
       "    <tr>\n",
       "      <th>887</th>\n",
       "      <td>112053</td>\n",
       "      <td>None</td>\n",
       "      <td>None</td>\n",
       "    </tr>\n",
       "    <tr>\n",
       "      <th>888</th>\n",
       "      <td>W./C.</td>\n",
       "      <td>6607</td>\n",
       "      <td>None</td>\n",
       "    </tr>\n",
       "    <tr>\n",
       "      <th>889</th>\n",
       "      <td>111369</td>\n",
       "      <td>None</td>\n",
       "      <td>None</td>\n",
       "    </tr>\n",
       "    <tr>\n",
       "      <th>890</th>\n",
       "      <td>370376</td>\n",
       "      <td>None</td>\n",
       "      <td>None</td>\n",
       "    </tr>\n",
       "  </tbody>\n",
       "</table>\n",
       "<p>891 rows × 3 columns</p>\n",
       "</div>"
      ],
      "text/plain": [
       "            0        1     2\n",
       "0         A/5    21171  None\n",
       "1          PC    17599  None\n",
       "2    STON/O2.  3101282  None\n",
       "3      113803     None  None\n",
       "4      373450     None  None\n",
       "..        ...      ...   ...\n",
       "886    211536     None  None\n",
       "887    112053     None  None\n",
       "888     W./C.     6607  None\n",
       "889    111369     None  None\n",
       "890    370376     None  None\n",
       "\n",
       "[891 rows x 3 columns]"
      ]
     },
     "execution_count": 45,
     "metadata": {},
     "output_type": "execute_result"
    }
   ],
   "source": [
    "train_df['Ticket'].str.split(pat=' ', expand=True)"
   ]
  },
  {
   "cell_type": "code",
   "execution_count": 46,
   "id": "f8690f26",
   "metadata": {
    "execution": {
     "iopub.execute_input": "2024-08-20T14:15:13.411894Z",
     "iopub.status.busy": "2024-08-20T14:15:13.411514Z",
     "iopub.status.idle": "2024-08-20T14:15:13.525500Z",
     "shell.execute_reply": "2024-08-20T14:15:13.524313Z"
    },
    "papermill": {
     "duration": 0.138588,
     "end_time": "2024-08-20T14:15:13.528161",
     "exception": false,
     "start_time": "2024-08-20T14:15:13.389573",
     "status": "completed"
    },
    "tags": []
   },
   "outputs": [],
   "source": [
    "train_df['ticket_location'] = np.where(train_df['Ticket'].str.split(pat=' ', expand=True)[1].notna(), train_df['Ticket'].str.split(pat=' ', expand=True)[0].apply(lambda x: x.strip()), 'blank')\n",
    "test_df['ticket_location'] = np.where(test_df['Ticket'].str.split(pat=' ', expand=True)[1].notna(), test_df['Ticket'].str.split(pat=' ', expand=True)[0].apply(lambda x: x.strip()), 'blank')"
   ]
  },
  {
   "cell_type": "code",
   "execution_count": 47,
   "id": "fb697317",
   "metadata": {
    "execution": {
     "iopub.execute_input": "2024-08-20T14:15:13.572339Z",
     "iopub.status.busy": "2024-08-20T14:15:13.571093Z",
     "iopub.status.idle": "2024-08-20T14:15:13.581459Z",
     "shell.execute_reply": "2024-08-20T14:15:13.580089Z"
    },
    "papermill": {
     "duration": 0.035245,
     "end_time": "2024-08-20T14:15:13.584005",
     "exception": false,
     "start_time": "2024-08-20T14:15:13.548760",
     "status": "completed"
    },
    "tags": []
   },
   "outputs": [
    {
     "data": {
      "text/plain": [
       "ticket_location\n",
       "blank         665\n",
       "PC             60\n",
       "C.A.           27\n",
       "STON/O         12\n",
       "A/5            10\n",
       "W./C.           9\n",
       "CA.             8\n",
       "SOTON/O.Q.      8\n",
       "SOTON/OQ        7\n",
       "A/5.            7\n",
       "CA              6\n",
       "STON/O2.        6\n",
       "C               5\n",
       "F.C.C.          5\n",
       "S.O.C.          5\n",
       "SC/PARIS        5\n",
       "SC/Paris        4\n",
       "S.O./P.P.       3\n",
       "PP              3\n",
       "A/4.            3\n",
       "A/4             3\n",
       "SC/AH           3\n",
       "A./5.           2\n",
       "SOTON/O2        2\n",
       "A.5.            2\n",
       "WE/P            2\n",
       "S.C./PARIS      2\n",
       "P/PP            2\n",
       "F.C.            1\n",
       "SC              1\n",
       "S.W./PP         1\n",
       "A/S             1\n",
       "Fa              1\n",
       "SCO/W           1\n",
       "SW/PP           1\n",
       "W/C             1\n",
       "S.C./A.4.       1\n",
       "S.O.P.          1\n",
       "A4.             1\n",
       "W.E.P.          1\n",
       "SO/C            1\n",
       "S.P.            1\n",
       "C.A./SOTON      1\n",
       "Name: count, dtype: int64"
      ]
     },
     "execution_count": 47,
     "metadata": {},
     "output_type": "execute_result"
    }
   ],
   "source": [
    "train_df['ticket_location'].value_counts()"
   ]
  },
  {
   "cell_type": "code",
   "execution_count": 48,
   "id": "7d50063e",
   "metadata": {
    "execution": {
     "iopub.execute_input": "2024-08-20T14:15:13.628069Z",
     "iopub.status.busy": "2024-08-20T14:15:13.627617Z",
     "iopub.status.idle": "2024-08-20T14:15:13.641800Z",
     "shell.execute_reply": "2024-08-20T14:15:13.640490Z"
    },
    "papermill": {
     "duration": 0.039324,
     "end_time": "2024-08-20T14:15:13.644354",
     "exception": false,
     "start_time": "2024-08-20T14:15:13.605030",
     "status": "completed"
    },
    "tags": []
   },
   "outputs": [],
   "source": [
    "# Clean-up the ticket_location variable\n",
    "train_df['ticket_location'] = train_df['ticket_location'].replace({\n",
    "    'SOTON/O.Q.':'SOTON/OQ',\n",
    "    'C.A.':'CA',\n",
    "    'CA.':'CA',\n",
    "    'SC/PARIS':'SC/Paris',\n",
    "    'S.C./PARIS':'SC/Paris',\n",
    "    'A/4.':'A/4',\n",
    "    'A/5.':'A/5',\n",
    "    'A.5.':'A/5',\n",
    "    'A./5.':'A/5',\n",
    "    'W./C/':'W/C'\n",
    "})\n",
    "\n",
    "test_df['ticket_location'] = test_df['ticket_location'].replace({\n",
    "    'SOTON/O.Q.':'SOTON/OQ',\n",
    "    'C.A.':'CA',\n",
    "    'CA.':'CA',\n",
    "    'SC/PARIS':'SC/Paris',\n",
    "    'S.C./PARIS':'SC/Paris',\n",
    "    'A/4.':'A/4',\n",
    "    'A/5.':'A/5',\n",
    "    'A.5.':'A/5',\n",
    "    'A./5.':'A/5',\n",
    "    'W./C/':'W/C'\n",
    "})"
   ]
  },
  {
   "cell_type": "code",
   "execution_count": 49,
   "id": "92718bc8",
   "metadata": {
    "execution": {
     "iopub.execute_input": "2024-08-20T14:15:13.688067Z",
     "iopub.status.busy": "2024-08-20T14:15:13.687686Z",
     "iopub.status.idle": "2024-08-20T14:15:13.697165Z",
     "shell.execute_reply": "2024-08-20T14:15:13.696019Z"
    },
    "papermill": {
     "duration": 0.0339,
     "end_time": "2024-08-20T14:15:13.699484",
     "exception": false,
     "start_time": "2024-08-20T14:15:13.665584",
     "status": "completed"
    },
    "tags": []
   },
   "outputs": [
    {
     "data": {
      "text/plain": [
       "ticket_location\n",
       "blank         665\n",
       "PC             60\n",
       "CA             41\n",
       "A/5            21\n",
       "SOTON/OQ       15\n",
       "STON/O         12\n",
       "SC/Paris       11\n",
       "W./C.           9\n",
       "STON/O2.        6\n",
       "A/4             6\n",
       "F.C.C.          5\n",
       "C               5\n",
       "S.O.C.          5\n",
       "S.O./P.P.       3\n",
       "PP              3\n",
       "SC/AH           3\n",
       "P/PP            2\n",
       "SOTON/O2        2\n",
       "WE/P            2\n",
       "SO/C            1\n",
       "F.C.            1\n",
       "S.W./PP         1\n",
       "A/S             1\n",
       "SC              1\n",
       "SCO/W           1\n",
       "SW/PP           1\n",
       "W/C             1\n",
       "Fa              1\n",
       "S.O.P.          1\n",
       "S.C./A.4.       1\n",
       "A4.             1\n",
       "S.P.            1\n",
       "W.E.P.          1\n",
       "C.A./SOTON      1\n",
       "Name: count, dtype: int64"
      ]
     },
     "execution_count": 49,
     "metadata": {},
     "output_type": "execute_result"
    }
   ],
   "source": [
    "train_df['ticket_location'].value_counts()"
   ]
  },
  {
   "cell_type": "code",
   "execution_count": 50,
   "id": "0df90373",
   "metadata": {
    "execution": {
     "iopub.execute_input": "2024-08-20T14:15:13.742104Z",
     "iopub.status.busy": "2024-08-20T14:15:13.741730Z",
     "iopub.status.idle": "2024-08-20T14:15:13.758159Z",
     "shell.execute_reply": "2024-08-20T14:15:13.756995Z"
    },
    "papermill": {
     "duration": 0.040785,
     "end_time": "2024-08-20T14:15:13.760782",
     "exception": false,
     "start_time": "2024-08-20T14:15:13.719997",
     "status": "completed"
    },
    "tags": []
   },
   "outputs": [
    {
     "data": {
      "text/html": [
       "<div>\n",
       "<style scoped>\n",
       "    .dataframe tbody tr th:only-of-type {\n",
       "        vertical-align: middle;\n",
       "    }\n",
       "\n",
       "    .dataframe tbody tr th {\n",
       "        vertical-align: top;\n",
       "    }\n",
       "\n",
       "    .dataframe thead th {\n",
       "        text-align: right;\n",
       "    }\n",
       "</style>\n",
       "<table border=\"1\" class=\"dataframe\">\n",
       "  <thead>\n",
       "    <tr style=\"text-align: right;\">\n",
       "      <th></th>\n",
       "      <th>ticket_location</th>\n",
       "      <th>count</th>\n",
       "      <th>mean</th>\n",
       "    </tr>\n",
       "  </thead>\n",
       "  <tbody>\n",
       "    <tr>\n",
       "      <th>0</th>\n",
       "      <td>A/4</td>\n",
       "      <td>6</td>\n",
       "      <td>0.000000</td>\n",
       "    </tr>\n",
       "    <tr>\n",
       "      <th>1</th>\n",
       "      <td>A/5</td>\n",
       "      <td>21</td>\n",
       "      <td>0.095238</td>\n",
       "    </tr>\n",
       "    <tr>\n",
       "      <th>2</th>\n",
       "      <td>A/S</td>\n",
       "      <td>1</td>\n",
       "      <td>0.000000</td>\n",
       "    </tr>\n",
       "    <tr>\n",
       "      <th>3</th>\n",
       "      <td>A4.</td>\n",
       "      <td>1</td>\n",
       "      <td>0.000000</td>\n",
       "    </tr>\n",
       "    <tr>\n",
       "      <th>4</th>\n",
       "      <td>C</td>\n",
       "      <td>5</td>\n",
       "      <td>0.400000</td>\n",
       "    </tr>\n",
       "    <tr>\n",
       "      <th>5</th>\n",
       "      <td>C.A./SOTON</td>\n",
       "      <td>1</td>\n",
       "      <td>0.000000</td>\n",
       "    </tr>\n",
       "    <tr>\n",
       "      <th>6</th>\n",
       "      <td>CA</td>\n",
       "      <td>41</td>\n",
       "      <td>0.341463</td>\n",
       "    </tr>\n",
       "    <tr>\n",
       "      <th>7</th>\n",
       "      <td>F.C.</td>\n",
       "      <td>1</td>\n",
       "      <td>0.000000</td>\n",
       "    </tr>\n",
       "    <tr>\n",
       "      <th>8</th>\n",
       "      <td>F.C.C.</td>\n",
       "      <td>5</td>\n",
       "      <td>0.800000</td>\n",
       "    </tr>\n",
       "    <tr>\n",
       "      <th>9</th>\n",
       "      <td>Fa</td>\n",
       "      <td>1</td>\n",
       "      <td>0.000000</td>\n",
       "    </tr>\n",
       "    <tr>\n",
       "      <th>10</th>\n",
       "      <td>P/PP</td>\n",
       "      <td>2</td>\n",
       "      <td>0.500000</td>\n",
       "    </tr>\n",
       "    <tr>\n",
       "      <th>11</th>\n",
       "      <td>PC</td>\n",
       "      <td>60</td>\n",
       "      <td>0.650000</td>\n",
       "    </tr>\n",
       "    <tr>\n",
       "      <th>12</th>\n",
       "      <td>PP</td>\n",
       "      <td>3</td>\n",
       "      <td>0.666667</td>\n",
       "    </tr>\n",
       "    <tr>\n",
       "      <th>13</th>\n",
       "      <td>S.C./A.4.</td>\n",
       "      <td>1</td>\n",
       "      <td>0.000000</td>\n",
       "    </tr>\n",
       "    <tr>\n",
       "      <th>14</th>\n",
       "      <td>S.O./P.P.</td>\n",
       "      <td>3</td>\n",
       "      <td>0.000000</td>\n",
       "    </tr>\n",
       "    <tr>\n",
       "      <th>15</th>\n",
       "      <td>S.O.C.</td>\n",
       "      <td>5</td>\n",
       "      <td>0.000000</td>\n",
       "    </tr>\n",
       "    <tr>\n",
       "      <th>16</th>\n",
       "      <td>S.O.P.</td>\n",
       "      <td>1</td>\n",
       "      <td>0.000000</td>\n",
       "    </tr>\n",
       "    <tr>\n",
       "      <th>17</th>\n",
       "      <td>S.P.</td>\n",
       "      <td>1</td>\n",
       "      <td>0.000000</td>\n",
       "    </tr>\n",
       "    <tr>\n",
       "      <th>18</th>\n",
       "      <td>S.W./PP</td>\n",
       "      <td>1</td>\n",
       "      <td>1.000000</td>\n",
       "    </tr>\n",
       "    <tr>\n",
       "      <th>19</th>\n",
       "      <td>SC</td>\n",
       "      <td>1</td>\n",
       "      <td>1.000000</td>\n",
       "    </tr>\n",
       "    <tr>\n",
       "      <th>20</th>\n",
       "      <td>SC/AH</td>\n",
       "      <td>3</td>\n",
       "      <td>0.666667</td>\n",
       "    </tr>\n",
       "    <tr>\n",
       "      <th>21</th>\n",
       "      <td>SC/Paris</td>\n",
       "      <td>11</td>\n",
       "      <td>0.454545</td>\n",
       "    </tr>\n",
       "    <tr>\n",
       "      <th>22</th>\n",
       "      <td>SCO/W</td>\n",
       "      <td>1</td>\n",
       "      <td>0.000000</td>\n",
       "    </tr>\n",
       "    <tr>\n",
       "      <th>23</th>\n",
       "      <td>SO/C</td>\n",
       "      <td>1</td>\n",
       "      <td>1.000000</td>\n",
       "    </tr>\n",
       "    <tr>\n",
       "      <th>24</th>\n",
       "      <td>SOTON/O2</td>\n",
       "      <td>2</td>\n",
       "      <td>0.000000</td>\n",
       "    </tr>\n",
       "    <tr>\n",
       "      <th>25</th>\n",
       "      <td>SOTON/OQ</td>\n",
       "      <td>15</td>\n",
       "      <td>0.133333</td>\n",
       "    </tr>\n",
       "    <tr>\n",
       "      <th>26</th>\n",
       "      <td>STON/O</td>\n",
       "      <td>12</td>\n",
       "      <td>0.416667</td>\n",
       "    </tr>\n",
       "    <tr>\n",
       "      <th>27</th>\n",
       "      <td>STON/O2.</td>\n",
       "      <td>6</td>\n",
       "      <td>0.500000</td>\n",
       "    </tr>\n",
       "    <tr>\n",
       "      <th>28</th>\n",
       "      <td>SW/PP</td>\n",
       "      <td>1</td>\n",
       "      <td>1.000000</td>\n",
       "    </tr>\n",
       "    <tr>\n",
       "      <th>29</th>\n",
       "      <td>W./C.</td>\n",
       "      <td>9</td>\n",
       "      <td>0.111111</td>\n",
       "    </tr>\n",
       "    <tr>\n",
       "      <th>30</th>\n",
       "      <td>W.E.P.</td>\n",
       "      <td>1</td>\n",
       "      <td>0.000000</td>\n",
       "    </tr>\n",
       "    <tr>\n",
       "      <th>31</th>\n",
       "      <td>W/C</td>\n",
       "      <td>1</td>\n",
       "      <td>0.000000</td>\n",
       "    </tr>\n",
       "    <tr>\n",
       "      <th>32</th>\n",
       "      <td>WE/P</td>\n",
       "      <td>2</td>\n",
       "      <td>0.500000</td>\n",
       "    </tr>\n",
       "    <tr>\n",
       "      <th>33</th>\n",
       "      <td>blank</td>\n",
       "      <td>665</td>\n",
       "      <td>0.383459</td>\n",
       "    </tr>\n",
       "  </tbody>\n",
       "</table>\n",
       "</div>"
      ],
      "text/plain": [
       "   ticket_location  count      mean\n",
       "0              A/4      6  0.000000\n",
       "1              A/5     21  0.095238\n",
       "2              A/S      1  0.000000\n",
       "3              A4.      1  0.000000\n",
       "4                C      5  0.400000\n",
       "5       C.A./SOTON      1  0.000000\n",
       "6               CA     41  0.341463\n",
       "7             F.C.      1  0.000000\n",
       "8           F.C.C.      5  0.800000\n",
       "9               Fa      1  0.000000\n",
       "10            P/PP      2  0.500000\n",
       "11              PC     60  0.650000\n",
       "12              PP      3  0.666667\n",
       "13       S.C./A.4.      1  0.000000\n",
       "14       S.O./P.P.      3  0.000000\n",
       "15          S.O.C.      5  0.000000\n",
       "16          S.O.P.      1  0.000000\n",
       "17            S.P.      1  0.000000\n",
       "18         S.W./PP      1  1.000000\n",
       "19              SC      1  1.000000\n",
       "20           SC/AH      3  0.666667\n",
       "21        SC/Paris     11  0.454545\n",
       "22           SCO/W      1  0.000000\n",
       "23            SO/C      1  1.000000\n",
       "24        SOTON/O2      2  0.000000\n",
       "25        SOTON/OQ     15  0.133333\n",
       "26          STON/O     12  0.416667\n",
       "27        STON/O2.      6  0.500000\n",
       "28           SW/PP      1  1.000000\n",
       "29           W./C.      9  0.111111\n",
       "30          W.E.P.      1  0.000000\n",
       "31             W/C      1  0.000000\n",
       "32            WE/P      2  0.500000\n",
       "33           blank    665  0.383459"
      ]
     },
     "execution_count": 50,
     "metadata": {},
     "output_type": "execute_result"
    }
   ],
   "source": [
    "# Ticket_location x Survival\n",
    "train_df.groupby(['ticket_location'], as_index=False, observed=True)['Survived'].agg(['count', 'mean'])"
   ]
  },
  {
   "cell_type": "code",
   "execution_count": 51,
   "id": "57aaf738",
   "metadata": {
    "execution": {
     "iopub.execute_input": "2024-08-20T14:15:13.807041Z",
     "iopub.status.busy": "2024-08-20T14:15:13.806673Z",
     "iopub.status.idle": "2024-08-20T14:15:13.818489Z",
     "shell.execute_reply": "2024-08-20T14:15:13.817202Z"
    },
    "papermill": {
     "duration": 0.036641,
     "end_time": "2024-08-20T14:15:13.820807",
     "exception": false,
     "start_time": "2024-08-20T14:15:13.784166",
     "status": "completed"
    },
    "tags": []
   },
   "outputs": [],
   "source": [
    "train_df['Cabin']=train_df['Cabin'].fillna('U')\n",
    "train_df['Cabin']=pd.Series([i[0] if not pd.isnull(i) else 'x' for i in train_df['Cabin']])\n",
    "\n",
    "test_df['Cabin']=test_df['Cabin'].fillna('U')\n",
    "test_df['Cabin']=pd.Series([i[0] if not pd.isnull(i) else 'x' for i in test_df['Cabin']])"
   ]
  },
  {
   "cell_type": "code",
   "execution_count": 52,
   "id": "962ae476",
   "metadata": {
    "execution": {
     "iopub.execute_input": "2024-08-20T14:15:13.864491Z",
     "iopub.status.busy": "2024-08-20T14:15:13.864088Z",
     "iopub.status.idle": "2024-08-20T14:15:13.879026Z",
     "shell.execute_reply": "2024-08-20T14:15:13.877888Z"
    },
    "papermill": {
     "duration": 0.039926,
     "end_time": "2024-08-20T14:15:13.881601",
     "exception": false,
     "start_time": "2024-08-20T14:15:13.841675",
     "status": "completed"
    },
    "tags": []
   },
   "outputs": [
    {
     "data": {
      "text/html": [
       "<div>\n",
       "<style scoped>\n",
       "    .dataframe tbody tr th:only-of-type {\n",
       "        vertical-align: middle;\n",
       "    }\n",
       "\n",
       "    .dataframe tbody tr th {\n",
       "        vertical-align: top;\n",
       "    }\n",
       "\n",
       "    .dataframe thead th {\n",
       "        text-align: right;\n",
       "    }\n",
       "</style>\n",
       "<table border=\"1\" class=\"dataframe\">\n",
       "  <thead>\n",
       "    <tr style=\"text-align: right;\">\n",
       "      <th></th>\n",
       "      <th>Cabin</th>\n",
       "      <th>count</th>\n",
       "      <th>mean</th>\n",
       "    </tr>\n",
       "  </thead>\n",
       "  <tbody>\n",
       "    <tr>\n",
       "      <th>0</th>\n",
       "      <td>A</td>\n",
       "      <td>15</td>\n",
       "      <td>0.466667</td>\n",
       "    </tr>\n",
       "    <tr>\n",
       "      <th>1</th>\n",
       "      <td>B</td>\n",
       "      <td>47</td>\n",
       "      <td>0.744681</td>\n",
       "    </tr>\n",
       "    <tr>\n",
       "      <th>2</th>\n",
       "      <td>C</td>\n",
       "      <td>59</td>\n",
       "      <td>0.593220</td>\n",
       "    </tr>\n",
       "    <tr>\n",
       "      <th>3</th>\n",
       "      <td>D</td>\n",
       "      <td>33</td>\n",
       "      <td>0.757576</td>\n",
       "    </tr>\n",
       "    <tr>\n",
       "      <th>4</th>\n",
       "      <td>E</td>\n",
       "      <td>32</td>\n",
       "      <td>0.750000</td>\n",
       "    </tr>\n",
       "    <tr>\n",
       "      <th>5</th>\n",
       "      <td>F</td>\n",
       "      <td>13</td>\n",
       "      <td>0.615385</td>\n",
       "    </tr>\n",
       "    <tr>\n",
       "      <th>6</th>\n",
       "      <td>G</td>\n",
       "      <td>4</td>\n",
       "      <td>0.500000</td>\n",
       "    </tr>\n",
       "    <tr>\n",
       "      <th>7</th>\n",
       "      <td>T</td>\n",
       "      <td>1</td>\n",
       "      <td>0.000000</td>\n",
       "    </tr>\n",
       "    <tr>\n",
       "      <th>8</th>\n",
       "      <td>U</td>\n",
       "      <td>687</td>\n",
       "      <td>0.299854</td>\n",
       "    </tr>\n",
       "  </tbody>\n",
       "</table>\n",
       "</div>"
      ],
      "text/plain": [
       "  Cabin  count      mean\n",
       "0     A     15  0.466667\n",
       "1     B     47  0.744681\n",
       "2     C     59  0.593220\n",
       "3     D     33  0.757576\n",
       "4     E     32  0.750000\n",
       "5     F     13  0.615385\n",
       "6     G      4  0.500000\n",
       "7     T      1  0.000000\n",
       "8     U    687  0.299854"
      ]
     },
     "execution_count": 52,
     "metadata": {},
     "output_type": "execute_result"
    }
   ],
   "source": [
    "# Cabin x Survival\n",
    "\n",
    "train_df.groupby(['Cabin'], as_index=False, observed=True)['Survived'].agg(['count', 'mean'])"
   ]
  },
  {
   "cell_type": "code",
   "execution_count": 53,
   "id": "193201d3",
   "metadata": {
    "execution": {
     "iopub.execute_input": "2024-08-20T14:15:13.926085Z",
     "iopub.status.busy": "2024-08-20T14:15:13.925736Z",
     "iopub.status.idle": "2024-08-20T14:15:13.933515Z",
     "shell.execute_reply": "2024-08-20T14:15:13.932300Z"
    },
    "papermill": {
     "duration": 0.032309,
     "end_time": "2024-08-20T14:15:13.935705",
     "exception": false,
     "start_time": "2024-08-20T14:15:13.903396",
     "status": "completed"
    },
    "tags": []
   },
   "outputs": [],
   "source": [
    "# reshaping the cabin variable into a binary one\n",
    "train_df['Cabin_assigned']=train_df['Cabin'].apply(lambda x: 0 if x in ['U'] else 1)\n",
    "test_df['Cabin_assigned']=test_df['Cabin'].apply(lambda x: 0 if x in ['U'] else 1)"
   ]
  },
  {
   "cell_type": "code",
   "execution_count": 54,
   "id": "99d205fc",
   "metadata": {
    "execution": {
     "iopub.execute_input": "2024-08-20T14:15:13.981627Z",
     "iopub.status.busy": "2024-08-20T14:15:13.981236Z",
     "iopub.status.idle": "2024-08-20T14:15:13.994741Z",
     "shell.execute_reply": "2024-08-20T14:15:13.993444Z"
    },
    "papermill": {
     "duration": 0.038951,
     "end_time": "2024-08-20T14:15:13.997008",
     "exception": false,
     "start_time": "2024-08-20T14:15:13.958057",
     "status": "completed"
    },
    "tags": []
   },
   "outputs": [
    {
     "data": {
      "text/html": [
       "<div>\n",
       "<style scoped>\n",
       "    .dataframe tbody tr th:only-of-type {\n",
       "        vertical-align: middle;\n",
       "    }\n",
       "\n",
       "    .dataframe tbody tr th {\n",
       "        vertical-align: top;\n",
       "    }\n",
       "\n",
       "    .dataframe thead th {\n",
       "        text-align: right;\n",
       "    }\n",
       "</style>\n",
       "<table border=\"1\" class=\"dataframe\">\n",
       "  <thead>\n",
       "    <tr style=\"text-align: right;\">\n",
       "      <th></th>\n",
       "      <th>Cabin_assigned</th>\n",
       "      <th>count</th>\n",
       "      <th>mean</th>\n",
       "    </tr>\n",
       "  </thead>\n",
       "  <tbody>\n",
       "    <tr>\n",
       "      <th>0</th>\n",
       "      <td>0</td>\n",
       "      <td>687</td>\n",
       "      <td>0.299854</td>\n",
       "    </tr>\n",
       "    <tr>\n",
       "      <th>1</th>\n",
       "      <td>1</td>\n",
       "      <td>204</td>\n",
       "      <td>0.666667</td>\n",
       "    </tr>\n",
       "  </tbody>\n",
       "</table>\n",
       "</div>"
      ],
      "text/plain": [
       "   Cabin_assigned  count      mean\n",
       "0               0    687  0.299854\n",
       "1               1    204  0.666667"
      ]
     },
     "execution_count": 54,
     "metadata": {},
     "output_type": "execute_result"
    }
   ],
   "source": [
    "train_df.groupby(['Cabin_assigned'], as_index=False, observed=True)['Survived'].agg(['count', 'mean'])"
   ]
  },
  {
   "cell_type": "code",
   "execution_count": 55,
   "id": "e60675f9",
   "metadata": {
    "execution": {
     "iopub.execute_input": "2024-08-20T14:15:14.043230Z",
     "iopub.status.busy": "2024-08-20T14:15:14.042261Z",
     "iopub.status.idle": "2024-08-20T14:15:14.072064Z",
     "shell.execute_reply": "2024-08-20T14:15:14.071004Z"
    },
    "papermill": {
     "duration": 0.055666,
     "end_time": "2024-08-20T14:15:14.074519",
     "exception": false,
     "start_time": "2024-08-20T14:15:14.018853",
     "status": "completed"
    },
    "tags": []
   },
   "outputs": [
    {
     "data": {
      "text/html": [
       "<div>\n",
       "<style scoped>\n",
       "    .dataframe tbody tr th:only-of-type {\n",
       "        vertical-align: middle;\n",
       "    }\n",
       "\n",
       "    .dataframe tbody tr th {\n",
       "        vertical-align: top;\n",
       "    }\n",
       "\n",
       "    .dataframe thead th {\n",
       "        text-align: right;\n",
       "    }\n",
       "</style>\n",
       "<table border=\"1\" class=\"dataframe\">\n",
       "  <thead>\n",
       "    <tr style=\"text-align: right;\">\n",
       "      <th></th>\n",
       "      <th>PassengerId</th>\n",
       "      <th>Survived</th>\n",
       "      <th>Pclass</th>\n",
       "      <th>Name</th>\n",
       "      <th>Sex</th>\n",
       "      <th>Age</th>\n",
       "      <th>SibSp</th>\n",
       "      <th>Parch</th>\n",
       "      <th>Ticket</th>\n",
       "      <th>Fare</th>\n",
       "      <th>...</th>\n",
       "      <th>age_cut</th>\n",
       "      <th>fare_cut</th>\n",
       "      <th>title</th>\n",
       "      <th>name_len</th>\n",
       "      <th>name_lenGB</th>\n",
       "      <th>name_size</th>\n",
       "      <th>ticket_number</th>\n",
       "      <th>ticket_number_counts</th>\n",
       "      <th>ticket_location</th>\n",
       "      <th>Cabin_assigned</th>\n",
       "    </tr>\n",
       "  </thead>\n",
       "  <tbody>\n",
       "    <tr>\n",
       "      <th>0</th>\n",
       "      <td>1</td>\n",
       "      <td>0</td>\n",
       "      <td>3</td>\n",
       "      <td>Braund, Mr. Owen Harris</td>\n",
       "      <td>male</td>\n",
       "      <td>2.0</td>\n",
       "      <td>1</td>\n",
       "      <td>0</td>\n",
       "      <td>A/5 21171</td>\n",
       "      <td>0.0</td>\n",
       "      <td>...</td>\n",
       "      <td>(20.125, 24.0]</td>\n",
       "      <td>(-0.001, 7.775]</td>\n",
       "      <td>Mr</td>\n",
       "      <td>23</td>\n",
       "      <td>(20.0, 23.0]</td>\n",
       "      <td>2.0</td>\n",
       "      <td>21171</td>\n",
       "      <td>1</td>\n",
       "      <td>A/5</td>\n",
       "      <td>0</td>\n",
       "    </tr>\n",
       "    <tr>\n",
       "      <th>1</th>\n",
       "      <td>2</td>\n",
       "      <td>1</td>\n",
       "      <td>1</td>\n",
       "      <td>Cumings, Mrs. John Bradley (Florence Briggs Th...</td>\n",
       "      <td>female</td>\n",
       "      <td>5.0</td>\n",
       "      <td>1</td>\n",
       "      <td>0</td>\n",
       "      <td>PC 17599</td>\n",
       "      <td>5.0</td>\n",
       "      <td>...</td>\n",
       "      <td>(32.312, 38.0]</td>\n",
       "      <td>(52.369, 512.329]</td>\n",
       "      <td>Mrs</td>\n",
       "      <td>51</td>\n",
       "      <td>(38.0, 82.0]</td>\n",
       "      <td>6.0</td>\n",
       "      <td>17599</td>\n",
       "      <td>1</td>\n",
       "      <td>PC</td>\n",
       "      <td>1</td>\n",
       "    </tr>\n",
       "    <tr>\n",
       "      <th>2</th>\n",
       "      <td>3</td>\n",
       "      <td>1</td>\n",
       "      <td>3</td>\n",
       "      <td>Heikkinen, Miss. Laina</td>\n",
       "      <td>female</td>\n",
       "      <td>3.0</td>\n",
       "      <td>0</td>\n",
       "      <td>0</td>\n",
       "      <td>STON/O2. 3101282</td>\n",
       "      <td>1.0</td>\n",
       "      <td>...</td>\n",
       "      <td>(24.0, 28.0]</td>\n",
       "      <td>(7.775, 8.662]</td>\n",
       "      <td>Miss</td>\n",
       "      <td>22</td>\n",
       "      <td>(20.0, 23.0]</td>\n",
       "      <td>2.0</td>\n",
       "      <td>3101282</td>\n",
       "      <td>1</td>\n",
       "      <td>STON/O2.</td>\n",
       "      <td>0</td>\n",
       "    </tr>\n",
       "    <tr>\n",
       "      <th>3</th>\n",
       "      <td>4</td>\n",
       "      <td>1</td>\n",
       "      <td>1</td>\n",
       "      <td>Futrelle, Mrs. Jacques Heath (Lily May Peel)</td>\n",
       "      <td>female</td>\n",
       "      <td>5.0</td>\n",
       "      <td>1</td>\n",
       "      <td>0</td>\n",
       "      <td>113803</td>\n",
       "      <td>5.0</td>\n",
       "      <td>...</td>\n",
       "      <td>(32.312, 38.0]</td>\n",
       "      <td>(52.369, 512.329]</td>\n",
       "      <td>Mrs</td>\n",
       "      <td>44</td>\n",
       "      <td>(38.0, 82.0]</td>\n",
       "      <td>6.0</td>\n",
       "      <td>113803</td>\n",
       "      <td>2</td>\n",
       "      <td>blank</td>\n",
       "      <td>1</td>\n",
       "    </tr>\n",
       "    <tr>\n",
       "      <th>4</th>\n",
       "      <td>5</td>\n",
       "      <td>0</td>\n",
       "      <td>3</td>\n",
       "      <td>Allen, Mr. William Henry</td>\n",
       "      <td>male</td>\n",
       "      <td>5.0</td>\n",
       "      <td>0</td>\n",
       "      <td>0</td>\n",
       "      <td>373450</td>\n",
       "      <td>1.0</td>\n",
       "      <td>...</td>\n",
       "      <td>(32.312, 38.0]</td>\n",
       "      <td>(7.775, 8.662]</td>\n",
       "      <td>Mr</td>\n",
       "      <td>24</td>\n",
       "      <td>(23.0, 25.0]</td>\n",
       "      <td>3.0</td>\n",
       "      <td>373450</td>\n",
       "      <td>1</td>\n",
       "      <td>blank</td>\n",
       "      <td>0</td>\n",
       "    </tr>\n",
       "  </tbody>\n",
       "</table>\n",
       "<p>5 rows × 24 columns</p>\n",
       "</div>"
      ],
      "text/plain": [
       "   PassengerId  Survived  Pclass  \\\n",
       "0            1         0       3   \n",
       "1            2         1       1   \n",
       "2            3         1       3   \n",
       "3            4         1       1   \n",
       "4            5         0       3   \n",
       "\n",
       "                                                Name     Sex  Age  SibSp  \\\n",
       "0                            Braund, Mr. Owen Harris    male  2.0      1   \n",
       "1  Cumings, Mrs. John Bradley (Florence Briggs Th...  female  5.0      1   \n",
       "2                             Heikkinen, Miss. Laina  female  3.0      0   \n",
       "3       Futrelle, Mrs. Jacques Heath (Lily May Peel)  female  5.0      1   \n",
       "4                           Allen, Mr. William Henry    male  5.0      0   \n",
       "\n",
       "   Parch            Ticket  Fare  ...         age_cut           fare_cut  \\\n",
       "0      0         A/5 21171   0.0  ...  (20.125, 24.0]    (-0.001, 7.775]   \n",
       "1      0          PC 17599   5.0  ...  (32.312, 38.0]  (52.369, 512.329]   \n",
       "2      0  STON/O2. 3101282   1.0  ...    (24.0, 28.0]     (7.775, 8.662]   \n",
       "3      0            113803   5.0  ...  (32.312, 38.0]  (52.369, 512.329]   \n",
       "4      0            373450   1.0  ...  (32.312, 38.0]     (7.775, 8.662]   \n",
       "\n",
       "   title name_len    name_lenGB name_size ticket_number  ticket_number_counts  \\\n",
       "0     Mr       23  (20.0, 23.0]       2.0         21171                     1   \n",
       "1    Mrs       51  (38.0, 82.0]       6.0         17599                     1   \n",
       "2   Miss       22  (20.0, 23.0]       2.0       3101282                     1   \n",
       "3    Mrs       44  (38.0, 82.0]       6.0        113803                     2   \n",
       "4     Mr       24  (23.0, 25.0]       3.0        373450                     1   \n",
       "\n",
       "  ticket_location  Cabin_assigned  \n",
       "0             A/5               0  \n",
       "1              PC               1  \n",
       "2        STON/O2.               0  \n",
       "3           blank               1  \n",
       "4           blank               0  \n",
       "\n",
       "[5 rows x 24 columns]"
      ]
     },
     "execution_count": 55,
     "metadata": {},
     "output_type": "execute_result"
    }
   ],
   "source": [
    "train_df.head(5)"
   ]
  },
  {
   "cell_type": "code",
   "execution_count": 56,
   "id": "89d11512",
   "metadata": {
    "execution": {
     "iopub.execute_input": "2024-08-20T14:15:14.121146Z",
     "iopub.status.busy": "2024-08-20T14:15:14.120125Z",
     "iopub.status.idle": "2024-08-20T14:15:14.127296Z",
     "shell.execute_reply": "2024-08-20T14:15:14.126191Z"
    },
    "papermill": {
     "duration": 0.032644,
     "end_time": "2024-08-20T14:15:14.129750",
     "exception": false,
     "start_time": "2024-08-20T14:15:14.097106",
     "status": "completed"
    },
    "tags": []
   },
   "outputs": [
    {
     "data": {
      "text/plain": [
       "(891, 24)"
      ]
     },
     "execution_count": 56,
     "metadata": {},
     "output_type": "execute_result"
    }
   ],
   "source": [
    "train_df.shape"
   ]
  },
  {
   "cell_type": "code",
   "execution_count": 57,
   "id": "f048e886",
   "metadata": {
    "execution": {
     "iopub.execute_input": "2024-08-20T14:15:14.175453Z",
     "iopub.status.busy": "2024-08-20T14:15:14.175055Z",
     "iopub.status.idle": "2024-08-20T14:15:14.182595Z",
     "shell.execute_reply": "2024-08-20T14:15:14.181314Z"
    },
    "papermill": {
     "duration": 0.033521,
     "end_time": "2024-08-20T14:15:14.185061",
     "exception": false,
     "start_time": "2024-08-20T14:15:14.151540",
     "status": "completed"
    },
    "tags": []
   },
   "outputs": [
    {
     "data": {
      "text/plain": [
       "(418, 23)"
      ]
     },
     "execution_count": 57,
     "metadata": {},
     "output_type": "execute_result"
    }
   ],
   "source": [
    "test_df.shape"
   ]
  },
  {
   "cell_type": "code",
   "execution_count": 58,
   "id": "033ee498",
   "metadata": {
    "execution": {
     "iopub.execute_input": "2024-08-20T14:15:14.231209Z",
     "iopub.status.busy": "2024-08-20T14:15:14.230823Z",
     "iopub.status.idle": "2024-08-20T14:15:14.249280Z",
     "shell.execute_reply": "2024-08-20T14:15:14.248103Z"
    },
    "papermill": {
     "duration": 0.044505,
     "end_time": "2024-08-20T14:15:14.251864",
     "exception": false,
     "start_time": "2024-08-20T14:15:14.207359",
     "status": "completed"
    },
    "tags": []
   },
   "outputs": [
    {
     "name": "stdout",
     "output_type": "stream",
     "text": [
      "<class 'pandas.core.frame.DataFrame'>\n",
      "RangeIndex: 891 entries, 0 to 890\n",
      "Data columns (total 24 columns):\n",
      " #   Column                Non-Null Count  Dtype   \n",
      "---  ------                --------------  -----   \n",
      " 0   PassengerId           891 non-null    int64   \n",
      " 1   Survived              891 non-null    int64   \n",
      " 2   Pclass                891 non-null    int64   \n",
      " 3   Name                  891 non-null    object  \n",
      " 4   Sex                   891 non-null    object  \n",
      " 5   Age                   714 non-null    float64 \n",
      " 6   SibSp                 891 non-null    int64   \n",
      " 7   Parch                 891 non-null    int64   \n",
      " 8   Ticket                891 non-null    object  \n",
      " 9   Fare                  891 non-null    float64 \n",
      " 10  Cabin                 891 non-null    object  \n",
      " 11  Embarked              889 non-null    object  \n",
      " 12  family_size           891 non-null    int64   \n",
      " 13  family_size_grouped   891 non-null    object  \n",
      " 14  age_cut               714 non-null    category\n",
      " 15  fare_cut              891 non-null    category\n",
      " 16  title                 891 non-null    object  \n",
      " 17  name_len              891 non-null    int64   \n",
      " 18  name_lenGB            891 non-null    category\n",
      " 19  name_size             891 non-null    float64 \n",
      " 20  ticket_number         891 non-null    object  \n",
      " 21  ticket_number_counts  891 non-null    int64   \n",
      " 22  ticket_location       891 non-null    object  \n",
      " 23  Cabin_assigned        891 non-null    int64   \n",
      "dtypes: category(3), float64(3), int64(9), object(9)\n",
      "memory usage: 150.0+ KB\n"
     ]
    }
   ],
   "source": [
    "train_df.info()"
   ]
  },
  {
   "cell_type": "code",
   "execution_count": 59,
   "id": "bd18506f",
   "metadata": {
    "execution": {
     "iopub.execute_input": "2024-08-20T14:15:14.300241Z",
     "iopub.status.busy": "2024-08-20T14:15:14.299861Z",
     "iopub.status.idle": "2024-08-20T14:15:14.306764Z",
     "shell.execute_reply": "2024-08-20T14:15:14.305551Z"
    },
    "papermill": {
     "duration": 0.034581,
     "end_time": "2024-08-20T14:15:14.309103",
     "exception": false,
     "start_time": "2024-08-20T14:15:14.274522",
     "status": "completed"
    },
    "tags": []
   },
   "outputs": [
    {
     "data": {
      "text/plain": [
       "Index(['PassengerId', 'Survived', 'Pclass', 'Name', 'Sex', 'Age', 'SibSp',\n",
       "       'Parch', 'Ticket', 'Fare', 'Cabin', 'Embarked', 'family_size',\n",
       "       'family_size_grouped', 'age_cut', 'fare_cut', 'title', 'name_len',\n",
       "       'name_lenGB', 'name_size', 'ticket_number', 'ticket_number_counts',\n",
       "       'ticket_location', 'Cabin_assigned'],\n",
       "      dtype='object')"
      ]
     },
     "execution_count": 59,
     "metadata": {},
     "output_type": "execute_result"
    }
   ],
   "source": [
    "train_df.columns"
   ]
  },
  {
   "cell_type": "code",
   "execution_count": 60,
   "id": "1c3f4005",
   "metadata": {
    "execution": {
     "iopub.execute_input": "2024-08-20T14:15:14.356750Z",
     "iopub.status.busy": "2024-08-20T14:15:14.356382Z",
     "iopub.status.idle": "2024-08-20T14:15:14.365257Z",
     "shell.execute_reply": "2024-08-20T14:15:14.364086Z"
    },
    "papermill": {
     "duration": 0.036621,
     "end_time": "2024-08-20T14:15:14.367747",
     "exception": false,
     "start_time": "2024-08-20T14:15:14.331126",
     "status": "completed"
    },
    "tags": []
   },
   "outputs": [],
   "source": [
    "train_df['Age'] = train_df['Age'].fillna(train_df['Age'].mean())\n",
    "test_df['Age'] = test_df['Age'].fillna(test_df['Age'].mean())\n",
    "test_df['Fare'] = test_df['Fare'].fillna(test_df['Fare'].mean())\n"
   ]
  },
  {
   "cell_type": "code",
   "execution_count": 61,
   "id": "d0f4c463",
   "metadata": {
    "execution": {
     "iopub.execute_input": "2024-08-20T14:15:14.414948Z",
     "iopub.status.busy": "2024-08-20T14:15:14.414059Z",
     "iopub.status.idle": "2024-08-20T14:15:14.419840Z",
     "shell.execute_reply": "2024-08-20T14:15:14.418568Z"
    },
    "papermill": {
     "duration": 0.031837,
     "end_time": "2024-08-20T14:15:14.422191",
     "exception": false,
     "start_time": "2024-08-20T14:15:14.390354",
     "status": "completed"
    },
    "tags": []
   },
   "outputs": [],
   "source": [
    "ohe = OneHotEncoder(sparse_output=False)\n",
    "ode = OrdinalEncoder\n",
    "SI = SimpleImputer(strategy='most_frequent')"
   ]
  },
  {
   "cell_type": "code",
   "execution_count": 62,
   "id": "d044608f",
   "metadata": {
    "execution": {
     "iopub.execute_input": "2024-08-20T14:15:14.470063Z",
     "iopub.status.busy": "2024-08-20T14:15:14.469680Z",
     "iopub.status.idle": "2024-08-20T14:15:14.475276Z",
     "shell.execute_reply": "2024-08-20T14:15:14.473938Z"
    },
    "papermill": {
     "duration": 0.032025,
     "end_time": "2024-08-20T14:15:14.477727",
     "exception": false,
     "start_time": "2024-08-20T14:15:14.445702",
     "status": "completed"
    },
    "tags": []
   },
   "outputs": [],
   "source": [
    "ode_cols = ['family_size_grouped']\n",
    "ohe_cols = ['Sex', 'Embarked']\n"
   ]
  },
  {
   "cell_type": "code",
   "execution_count": 63,
   "id": "c04730f1",
   "metadata": {
    "execution": {
     "iopub.execute_input": "2024-08-20T14:15:14.525399Z",
     "iopub.status.busy": "2024-08-20T14:15:14.524982Z",
     "iopub.status.idle": "2024-08-20T14:15:14.534331Z",
     "shell.execute_reply": "2024-08-20T14:15:14.533153Z"
    },
    "papermill": {
     "duration": 0.037128,
     "end_time": "2024-08-20T14:15:14.537080",
     "exception": false,
     "start_time": "2024-08-20T14:15:14.499952",
     "status": "completed"
    },
    "tags": []
   },
   "outputs": [],
   "source": [
    "x = train_df.drop(['Survived'], axis=1)\n",
    "y = train_df['Survived']\n",
    "x_test = test_df.drop(['age_cut', 'fare_cut'], axis=1)\n"
   ]
  },
  {
   "cell_type": "code",
   "execution_count": 64,
   "id": "e0b3dd32",
   "metadata": {
    "execution": {
     "iopub.execute_input": "2024-08-20T14:15:14.589285Z",
     "iopub.status.busy": "2024-08-20T14:15:14.588874Z",
     "iopub.status.idle": "2024-08-20T14:15:14.601846Z",
     "shell.execute_reply": "2024-08-20T14:15:14.600580Z"
    },
    "papermill": {
     "duration": 0.042598,
     "end_time": "2024-08-20T14:15:14.604419",
     "exception": false,
     "start_time": "2024-08-20T14:15:14.561821",
     "status": "completed"
    },
    "tags": []
   },
   "outputs": [],
   "source": [
    "# Train-test split\n",
    "x_train, x_valid, y_train, y_valid = train_test_split(x, y, test_size=0.2, stratify=y, random_state=21)"
   ]
  },
  {
   "cell_type": "code",
   "execution_count": null,
   "id": "6a010f80",
   "metadata": {
    "papermill": {
     "duration": 0.022625,
     "end_time": "2024-08-20T14:15:14.650774",
     "exception": false,
     "start_time": "2024-08-20T14:15:14.628149",
     "status": "completed"
    },
    "tags": []
   },
   "outputs": [],
   "source": []
  }
 ],
 "metadata": {
  "kaggle": {
   "accelerator": "none",
   "dataSources": [
    {
     "datasetId": 5542265,
     "sourceId": 9171382,
     "sourceType": "datasetVersion"
    }
   ],
   "dockerImageVersionId": 30746,
   "isGpuEnabled": false,
   "isInternetEnabled": false,
   "language": "python",
   "sourceType": "notebook"
  },
  "kernelspec": {
   "display_name": "Python 3",
   "language": "python",
   "name": "python3"
  },
  "language_info": {
   "codemirror_mode": {
    "name": "ipython",
    "version": 3
   },
   "file_extension": ".py",
   "mimetype": "text/x-python",
   "name": "python",
   "nbconvert_exporter": "python",
   "pygments_lexer": "ipython3",
   "version": "3.10.13"
  },
  "papermill": {
   "default_parameters": {},
   "duration": 12.163759,
   "end_time": "2024-08-20T14:15:15.395998",
   "environment_variables": {},
   "exception": null,
   "input_path": "__notebook__.ipynb",
   "output_path": "__notebook__.ipynb",
   "parameters": {},
   "start_time": "2024-08-20T14:15:03.232239",
   "version": "2.5.0"
  }
 },
 "nbformat": 4,
 "nbformat_minor": 5
}
